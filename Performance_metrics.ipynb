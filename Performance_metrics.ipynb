{
  "cells": [
    {
      "cell_type": "markdown",
      "metadata": {
        "id": "s0Ej_bXyQvnV"
      },
      "source": [
        "# Compute performance metrics for the given Y and Y_score without sklearn"
      ]
    },
    {
      "cell_type": "code",
      "execution_count": 1,
      "metadata": {
        "id": "4CHb6NE7Qvnc"
      },
      "outputs": [],
      "source": [
        "import numpy as np\n",
        "import pandas as pd\n",
        "from tqdm import tqdm\n",
        "# other than these three you should not import any other packages"
      ]
    },
    {
      "cell_type": "markdown",
      "metadata": {
        "id": "KbsWXuDaQvnq"
      },
      "source": [
        "\n",
        "## A. Compute performance metrics for the given data '5_a.csv'\n",
        " <pre>  <b>Note 1:</b> in this data you can see number of positive points >> number of negatives points\n",
        "   <b>Note 2:</b> use pandas or numpy to read the data from <b>5_a.csv</b>\n",
        "   <b>Note 3:</b> you need to derive the class labels from given score</pre> $y^{pred}= \\text{[0 if y_score < 0.5 else 1]}$\n",
        "\n",
        "<pre>\n",
        "<ol>\n",
        "<li> Compute Confusion Matrix </li>\n",
        "<li> Compute F1 Score </li>\n",
        "<li> Compute AUC Score, you need to compute different thresholds and for each threshold compute tpr,fpr and then use  <br>         numpy.trapz(tpr_array, fpr_array) <a href='https://stackoverflow.com/q/53603376/4084039'>https://stackoverflow.com/q/53603376/4084039</a>, <a href='https://stackoverflow.com/a/39678975/4084039'>https://stackoverflow.com/a/39678975/4084039</a> <br>Note: it should be numpy.trapz(tpr_array, fpr_array) not <br>      numpy.trapz(fpr_array, tpr_array)\n",
        "Note- Make sure that you arrange your probability scores in descending order while calculating AUC</li>\n",
        "<li> Compute Accuracy Score </li>\n",
        "</ol>\n",
        "</pre>"
      ]
    },
    {
      "cell_type": "code",
      "execution_count": 2,
      "metadata": {
        "colab": {
          "base_uri": "https://localhost:8080/"
        },
        "id": "KrPd7idOMgVj",
        "outputId": "9d3ec9b5-1492-4266-e121-4b245b7f328c"
      },
      "outputs": [
        {
          "output_type": "stream",
          "name": "stdout",
          "text": [
            "--2024-07-11 05:36:52--  https://drive.usercontent.google.com/download?id=1Qh5cvi263TbPDb1MWCQjDjwQRlBrOsMp&export=download&authuser=0&confirm=t&uuid=dce10187-99a7-4199-9dc9-41a8d05eb564&at=APZUnTX7yEgPCOtM-SUcKpi_MoqK:1720676191957\n",
            "Resolving drive.usercontent.google.com (drive.usercontent.google.com)... 74.125.26.132, 2607:f8b0:400c:c04::84\n",
            "Connecting to drive.usercontent.google.com (drive.usercontent.google.com)|74.125.26.132|:443... connected.\n",
            "HTTP request sent, awaiting response... 200 OK\n",
            "Length: 241203 (236K) [application/octet-stream]\n",
            "Saving to: ‘5_a.csv’\n",
            "\n",
            "5_a.csv             100%[===================>] 235.55K  --.-KB/s    in 0.003s  \n",
            "\n",
            "2024-07-11 05:36:52 (80.8 MB/s) - ‘5_a.csv’ saved [241203/241203]\n",
            "\n"
          ]
        }
      ],
      "source": [
        "!wget --header=\"Host: drive.usercontent.google.com\" --header=\"User-Agent: Mozilla/5.0 (X11; Linux x86_64) AppleWebKit/537.36 (KHTML, like Gecko) Chrome/126.0.0.0 Safari/537.36\" --header=\"Accept: text/html,application/xhtml+xml,application/xml;q=0.9,image/avif,image/webp,image/apng,*/*;q=0.8,application/signed-exchange;v=b3;q=0.7\" --header=\"Accept-Language: en-US,en;q=0.9,hi;q=0.8\" --header=\"Cookie: SID=g.a000lghhqPeXWo_YO86EX9TjDVyOPXFHoudkgVzZCFbbaXb7FC93iDBd5XPEFVH2P96fT4whhwACgYKAWkSARYSFQHGX2MitruJpmq0OYVRlQyYGxMHsxoVAUF8yKp4VuoR8YjFKLfB6Ecm5-Ub0076; __Secure-1PSID=g.a000lghhqPeXWo_YO86EX9TjDVyOPXFHoudkgVzZCFbbaXb7FC93JUW0iPYtG2eS42YD1g2DxAACgYKAUESARYSFQHGX2MiFnJonx4WeQNWhRPLb82fWhoVAUF8yKoWuiCzPMqincZpH05Lokk30076; __Secure-3PSID=g.a000lghhqPeXWo_YO86EX9TjDVyOPXFHoudkgVzZCFbbaXb7FC93rqACJm2Bh6v8rM2FsUlRfwACgYKATcSARYSFQHGX2Mi9ZZ4UGKXqPi9RN7CqHQywBoVAUF8yKq6wXbPwCB2DT2Bo5FyiH_c0076; HSID=AFP_LKjSnJG5fnOd0; SSID=AI5Nsd4pEA22MuFu1; APISID=hsmKaIeKzn3rEbrz/As15XLTUT6u1DhOdB; SAPISID=i8wmL9i_s18ZGtly/A-z1fPUTYNL2Qie_h; __Secure-1PAPISID=i8wmL9i_s18ZGtly/A-z1fPUTYNL2Qie_h; __Secure-3PAPISID=i8wmL9i_s18ZGtly/A-z1fPUTYNL2Qie_h; AEC=AVYB7cp1-GunO0JBGIUvipmCVevDzfqrE1D7_the-poy5zioqVsnfpD2SSQ; NID=515=CZ7rhGQKq-6IxkmxzstGyl3ePTwo4dYf3OFJart1FJi63Eej3ulmcGFGDh2uTU2jelNc2WqsVyIT_H9troLUvIwenkvGwYIilyubd-tKcM2WMcrfUXLoY1w4CmCLqTl5C-xodTXzngOvBNXXmLjywjCgKNY7bGNDdNS2BouIeM7zlPewHmxWIcHh1njkQSQeYpADlRUv-g6_Keu8Wsf0PiFueSOVfKazNEhTNbUCtrKdV8eF_WkCUF6Gav_D2RmmJBQrR_EZ-X9Vlb2J_ZImtNP5WIAwELbBf2od7Fh9qT_L_QmhLeq0u3z2ojdz1L9AqOuXeSNnbqa5Zg5_tbJSdFJhXddgGxeWLQ; __Secure-1PSIDTS=sidts-CjEB4E2dkbyn-i1LtSUDzdDgDmJhld6-f_SSfm7UJNlg1aNz3ctzAFVIf-x-SN_UaVs_EAA; __Secure-3PSIDTS=sidts-CjEB4E2dkbyn-i1LtSUDzdDgDmJhld6-f_SSfm7UJNlg1aNz3ctzAFVIf-x-SN_UaVs_EAA; SIDCC=AKEyXzXFcm4HbZB0E97p1zuqPwHYTk7AmTbZK4TtuqxEbhs-4JoHUx-a4-q4RYeoQ9YB9e-jgnE; __Secure-1PSIDCC=AKEyXzUfRK5TSfM_KdwkTSvWu8R8PzE0o4ghRNi2BY60FHj_O2l2jbVdKb7Uq4z6xN92-WqECg; __Secure-3PSIDCC=AKEyXzXwdcUvKNv_CpeJTtOMYpkZR1whKxLH3-aT6KgzKmpuLQbJYKKrfmkM50o6YTrzlj0ob8A\" --header=\"Connection: keep-alive\" \"https://drive.usercontent.google.com/download?id=1Qh5cvi263TbPDb1MWCQjDjwQRlBrOsMp&export=download&authuser=0&confirm=t&uuid=dce10187-99a7-4199-9dc9-41a8d05eb564&at=APZUnTX7yEgPCOtM-SUcKpi_MoqK:1720676191957\" -c -O '5_a.csv'"
      ]
    },
    {
      "cell_type": "code",
      "execution_count": 3,
      "metadata": {
        "colab": {
          "base_uri": "https://localhost:8080/",
          "height": 206
        },
        "id": "WaFLW7oBQvnt",
        "outputId": "f34a72ef-cd16-499a-afb6-a48a61208f39"
      },
      "outputs": [
        {
          "output_type": "execute_result",
          "data": {
            "text/plain": [
              "     y     proba\n",
              "0  1.0  0.637387\n",
              "1  1.0  0.635165\n",
              "2  1.0  0.766586\n",
              "3  1.0  0.724564\n",
              "4  1.0  0.889199"
            ],
            "text/html": [
              "\n",
              "  <div id=\"df-8ff0a74d-8d85-4c8b-91c6-3574b69b306e\" class=\"colab-df-container\">\n",
              "    <div>\n",
              "<style scoped>\n",
              "    .dataframe tbody tr th:only-of-type {\n",
              "        vertical-align: middle;\n",
              "    }\n",
              "\n",
              "    .dataframe tbody tr th {\n",
              "        vertical-align: top;\n",
              "    }\n",
              "\n",
              "    .dataframe thead th {\n",
              "        text-align: right;\n",
              "    }\n",
              "</style>\n",
              "<table border=\"1\" class=\"dataframe\">\n",
              "  <thead>\n",
              "    <tr style=\"text-align: right;\">\n",
              "      <th></th>\n",
              "      <th>y</th>\n",
              "      <th>proba</th>\n",
              "    </tr>\n",
              "  </thead>\n",
              "  <tbody>\n",
              "    <tr>\n",
              "      <th>0</th>\n",
              "      <td>1.0</td>\n",
              "      <td>0.637387</td>\n",
              "    </tr>\n",
              "    <tr>\n",
              "      <th>1</th>\n",
              "      <td>1.0</td>\n",
              "      <td>0.635165</td>\n",
              "    </tr>\n",
              "    <tr>\n",
              "      <th>2</th>\n",
              "      <td>1.0</td>\n",
              "      <td>0.766586</td>\n",
              "    </tr>\n",
              "    <tr>\n",
              "      <th>3</th>\n",
              "      <td>1.0</td>\n",
              "      <td>0.724564</td>\n",
              "    </tr>\n",
              "    <tr>\n",
              "      <th>4</th>\n",
              "      <td>1.0</td>\n",
              "      <td>0.889199</td>\n",
              "    </tr>\n",
              "  </tbody>\n",
              "</table>\n",
              "</div>\n",
              "    <div class=\"colab-df-buttons\">\n",
              "\n",
              "  <div class=\"colab-df-container\">\n",
              "    <button class=\"colab-df-convert\" onclick=\"convertToInteractive('df-8ff0a74d-8d85-4c8b-91c6-3574b69b306e')\"\n",
              "            title=\"Convert this dataframe to an interactive table.\"\n",
              "            style=\"display:none;\">\n",
              "\n",
              "  <svg xmlns=\"http://www.w3.org/2000/svg\" height=\"24px\" viewBox=\"0 -960 960 960\">\n",
              "    <path d=\"M120-120v-720h720v720H120Zm60-500h600v-160H180v160Zm220 220h160v-160H400v160Zm0 220h160v-160H400v160ZM180-400h160v-160H180v160Zm440 0h160v-160H620v160ZM180-180h160v-160H180v160Zm440 0h160v-160H620v160Z\"/>\n",
              "  </svg>\n",
              "    </button>\n",
              "\n",
              "  <style>\n",
              "    .colab-df-container {\n",
              "      display:flex;\n",
              "      gap: 12px;\n",
              "    }\n",
              "\n",
              "    .colab-df-convert {\n",
              "      background-color: #E8F0FE;\n",
              "      border: none;\n",
              "      border-radius: 50%;\n",
              "      cursor: pointer;\n",
              "      display: none;\n",
              "      fill: #1967D2;\n",
              "      height: 32px;\n",
              "      padding: 0 0 0 0;\n",
              "      width: 32px;\n",
              "    }\n",
              "\n",
              "    .colab-df-convert:hover {\n",
              "      background-color: #E2EBFA;\n",
              "      box-shadow: 0px 1px 2px rgba(60, 64, 67, 0.3), 0px 1px 3px 1px rgba(60, 64, 67, 0.15);\n",
              "      fill: #174EA6;\n",
              "    }\n",
              "\n",
              "    .colab-df-buttons div {\n",
              "      margin-bottom: 4px;\n",
              "    }\n",
              "\n",
              "    [theme=dark] .colab-df-convert {\n",
              "      background-color: #3B4455;\n",
              "      fill: #D2E3FC;\n",
              "    }\n",
              "\n",
              "    [theme=dark] .colab-df-convert:hover {\n",
              "      background-color: #434B5C;\n",
              "      box-shadow: 0px 1px 3px 1px rgba(0, 0, 0, 0.15);\n",
              "      filter: drop-shadow(0px 1px 2px rgba(0, 0, 0, 0.3));\n",
              "      fill: #FFFFFF;\n",
              "    }\n",
              "  </style>\n",
              "\n",
              "    <script>\n",
              "      const buttonEl =\n",
              "        document.querySelector('#df-8ff0a74d-8d85-4c8b-91c6-3574b69b306e button.colab-df-convert');\n",
              "      buttonEl.style.display =\n",
              "        google.colab.kernel.accessAllowed ? 'block' : 'none';\n",
              "\n",
              "      async function convertToInteractive(key) {\n",
              "        const element = document.querySelector('#df-8ff0a74d-8d85-4c8b-91c6-3574b69b306e');\n",
              "        const dataTable =\n",
              "          await google.colab.kernel.invokeFunction('convertToInteractive',\n",
              "                                                    [key], {});\n",
              "        if (!dataTable) return;\n",
              "\n",
              "        const docLinkHtml = 'Like what you see? Visit the ' +\n",
              "          '<a target=\"_blank\" href=https://colab.research.google.com/notebooks/data_table.ipynb>data table notebook</a>'\n",
              "          + ' to learn more about interactive tables.';\n",
              "        element.innerHTML = '';\n",
              "        dataTable['output_type'] = 'display_data';\n",
              "        await google.colab.output.renderOutput(dataTable, element);\n",
              "        const docLink = document.createElement('div');\n",
              "        docLink.innerHTML = docLinkHtml;\n",
              "        element.appendChild(docLink);\n",
              "      }\n",
              "    </script>\n",
              "  </div>\n",
              "\n",
              "\n",
              "<div id=\"df-24f4ec3b-9f38-4fd5-bc72-3ad749b19a19\">\n",
              "  <button class=\"colab-df-quickchart\" onclick=\"quickchart('df-24f4ec3b-9f38-4fd5-bc72-3ad749b19a19')\"\n",
              "            title=\"Suggest charts\"\n",
              "            style=\"display:none;\">\n",
              "\n",
              "<svg xmlns=\"http://www.w3.org/2000/svg\" height=\"24px\"viewBox=\"0 0 24 24\"\n",
              "     width=\"24px\">\n",
              "    <g>\n",
              "        <path d=\"M19 3H5c-1.1 0-2 .9-2 2v14c0 1.1.9 2 2 2h14c1.1 0 2-.9 2-2V5c0-1.1-.9-2-2-2zM9 17H7v-7h2v7zm4 0h-2V7h2v10zm4 0h-2v-4h2v4z\"/>\n",
              "    </g>\n",
              "</svg>\n",
              "  </button>\n",
              "\n",
              "<style>\n",
              "  .colab-df-quickchart {\n",
              "      --bg-color: #E8F0FE;\n",
              "      --fill-color: #1967D2;\n",
              "      --hover-bg-color: #E2EBFA;\n",
              "      --hover-fill-color: #174EA6;\n",
              "      --disabled-fill-color: #AAA;\n",
              "      --disabled-bg-color: #DDD;\n",
              "  }\n",
              "\n",
              "  [theme=dark] .colab-df-quickchart {\n",
              "      --bg-color: #3B4455;\n",
              "      --fill-color: #D2E3FC;\n",
              "      --hover-bg-color: #434B5C;\n",
              "      --hover-fill-color: #FFFFFF;\n",
              "      --disabled-bg-color: #3B4455;\n",
              "      --disabled-fill-color: #666;\n",
              "  }\n",
              "\n",
              "  .colab-df-quickchart {\n",
              "    background-color: var(--bg-color);\n",
              "    border: none;\n",
              "    border-radius: 50%;\n",
              "    cursor: pointer;\n",
              "    display: none;\n",
              "    fill: var(--fill-color);\n",
              "    height: 32px;\n",
              "    padding: 0;\n",
              "    width: 32px;\n",
              "  }\n",
              "\n",
              "  .colab-df-quickchart:hover {\n",
              "    background-color: var(--hover-bg-color);\n",
              "    box-shadow: 0 1px 2px rgba(60, 64, 67, 0.3), 0 1px 3px 1px rgba(60, 64, 67, 0.15);\n",
              "    fill: var(--button-hover-fill-color);\n",
              "  }\n",
              "\n",
              "  .colab-df-quickchart-complete:disabled,\n",
              "  .colab-df-quickchart-complete:disabled:hover {\n",
              "    background-color: var(--disabled-bg-color);\n",
              "    fill: var(--disabled-fill-color);\n",
              "    box-shadow: none;\n",
              "  }\n",
              "\n",
              "  .colab-df-spinner {\n",
              "    border: 2px solid var(--fill-color);\n",
              "    border-color: transparent;\n",
              "    border-bottom-color: var(--fill-color);\n",
              "    animation:\n",
              "      spin 1s steps(1) infinite;\n",
              "  }\n",
              "\n",
              "  @keyframes spin {\n",
              "    0% {\n",
              "      border-color: transparent;\n",
              "      border-bottom-color: var(--fill-color);\n",
              "      border-left-color: var(--fill-color);\n",
              "    }\n",
              "    20% {\n",
              "      border-color: transparent;\n",
              "      border-left-color: var(--fill-color);\n",
              "      border-top-color: var(--fill-color);\n",
              "    }\n",
              "    30% {\n",
              "      border-color: transparent;\n",
              "      border-left-color: var(--fill-color);\n",
              "      border-top-color: var(--fill-color);\n",
              "      border-right-color: var(--fill-color);\n",
              "    }\n",
              "    40% {\n",
              "      border-color: transparent;\n",
              "      border-right-color: var(--fill-color);\n",
              "      border-top-color: var(--fill-color);\n",
              "    }\n",
              "    60% {\n",
              "      border-color: transparent;\n",
              "      border-right-color: var(--fill-color);\n",
              "    }\n",
              "    80% {\n",
              "      border-color: transparent;\n",
              "      border-right-color: var(--fill-color);\n",
              "      border-bottom-color: var(--fill-color);\n",
              "    }\n",
              "    90% {\n",
              "      border-color: transparent;\n",
              "      border-bottom-color: var(--fill-color);\n",
              "    }\n",
              "  }\n",
              "</style>\n",
              "\n",
              "  <script>\n",
              "    async function quickchart(key) {\n",
              "      const quickchartButtonEl =\n",
              "        document.querySelector('#' + key + ' button');\n",
              "      quickchartButtonEl.disabled = true;  // To prevent multiple clicks.\n",
              "      quickchartButtonEl.classList.add('colab-df-spinner');\n",
              "      try {\n",
              "        const charts = await google.colab.kernel.invokeFunction(\n",
              "            'suggestCharts', [key], {});\n",
              "      } catch (error) {\n",
              "        console.error('Error during call to suggestCharts:', error);\n",
              "      }\n",
              "      quickchartButtonEl.classList.remove('colab-df-spinner');\n",
              "      quickchartButtonEl.classList.add('colab-df-quickchart-complete');\n",
              "    }\n",
              "    (() => {\n",
              "      let quickchartButtonEl =\n",
              "        document.querySelector('#df-24f4ec3b-9f38-4fd5-bc72-3ad749b19a19 button');\n",
              "      quickchartButtonEl.style.display =\n",
              "        google.colab.kernel.accessAllowed ? 'block' : 'none';\n",
              "    })();\n",
              "  </script>\n",
              "</div>\n",
              "\n",
              "    </div>\n",
              "  </div>\n"
            ],
            "application/vnd.google.colaboratory.intrinsic+json": {
              "type": "dataframe",
              "variable_name": "df_a",
              "summary": "{\n  \"name\": \"df_a\",\n  \"rows\": 10100,\n  \"fields\": [\n    {\n      \"column\": \"y\",\n      \"properties\": {\n        \"dtype\": \"number\",\n        \"std\": 0.09901480283434737,\n        \"min\": 0.0,\n        \"max\": 1.0,\n        \"num_unique_values\": 2,\n        \"samples\": [\n          0.0,\n          1.0\n        ],\n        \"semantic_type\": \"\",\n        \"description\": \"\"\n      }\n    },\n    {\n      \"column\": \"proba\",\n      \"properties\": {\n        \"dtype\": \"number\",\n        \"std\": 0.11433596613704146,\n        \"min\": 0.5000185949718864,\n        \"max\": 0.8999653487823838,\n        \"num_unique_values\": 10100,\n        \"samples\": [\n          0.5489873185659357,\n          0.6208234103314829\n        ],\n        \"semantic_type\": \"\",\n        \"description\": \"\"\n      }\n    }\n  ]\n}"
            }
          },
          "metadata": {},
          "execution_count": 3
        }
      ],
      "source": [
        "df_a=pd.read_csv('5_a.csv')\n",
        "df_a.head(5)"
      ]
    },
    {
      "cell_type": "code",
      "execution_count": 4,
      "metadata": {
        "id": "UAxkhs2NVlz0"
      },
      "outputs": [],
      "source": [
        "y_actual = df_a[\"y\"]\n",
        "y_predicted = [1 if (y_real >= 0.5) else 0 for y_real in df_a[\"proba\"]]"
      ]
    },
    {
      "cell_type": "markdown",
      "metadata": {
        "id": "iDexNdf1lsW-"
      },
      "source": [
        "### 1- Implementation of confusion matrix"
      ]
    },
    {
      "cell_type": "code",
      "execution_count": 5,
      "metadata": {
        "colab": {
          "base_uri": "https://localhost:8080/"
        },
        "id": "yg8uUJvGAfCM",
        "outputId": "7e2bb1ff-9402-4920-e687-be07d4279d66"
      },
      "outputs": [
        {
          "output_type": "stream",
          "name": "stdout",
          "text": [
            "[[0, 0], [100, 10000]]\n"
          ]
        }
      ],
      "source": [
        "# 1.confusion matrix for 2 class only\n",
        "def calculate_values(y_actual, y_predicted, y_predicted_row_no,  y_actual_col_no):\n",
        "    res = 0\n",
        "    for i in range(len(y_actual)):\n",
        "      if (y_predicted[i] == y_predicted_row_no and y_actual[i] == y_actual_col_no):\n",
        "        res += 1\n",
        "    return res\n",
        "\n",
        "\n",
        "def confusion_matrix(y_actual, y_predicted):\n",
        "    #create the empty confusion matrix\n",
        "    confusion_mat = []\n",
        "\n",
        "    #row 0\n",
        "    #Note:: we can simplyfy it further but, for understanding purpose, I have written the code like below\n",
        "    row0 = []\n",
        "    true_negative = calculate_values(y_actual, y_predicted, 0, 0)  #cell (0,0)\n",
        "    false_negative = calculate_values(y_actual, y_predicted, 0, 1) #cell (0,1)\n",
        "    row0.append(true_negative)\n",
        "    row0.append(false_negative)\n",
        "\n",
        "    #row 1\n",
        "    row1 = []\n",
        "    false_positive = calculate_values(y_actual, y_predicted, 1, 0) #cell (1,0)\n",
        "    true_positive = calculate_values(y_actual, y_predicted, 1, 1)  #cell (1,1)\n",
        "    row1.append(false_positive)\n",
        "    row1.append(true_positive)\n",
        "\n",
        "    #append in confusion matrix\n",
        "    confusion_mat.append(row0)\n",
        "    confusion_mat.append(row1)\n",
        "\n",
        "    return confusion_mat\n",
        "\n",
        "\n",
        "confusion_mat = confusion_matrix(y_actual, y_predicted)\n",
        "print(confusion_mat)"
      ]
    },
    {
      "cell_type": "markdown",
      "source": [
        "#### simplified confusion matrix implementation"
      ],
      "metadata": {
        "id": "n-rn_Nrve3DX"
      }
    },
    {
      "cell_type": "code",
      "execution_count": 6,
      "metadata": {
        "colab": {
          "base_uri": "https://localhost:8080/"
        },
        "id": "AjxIYreNQ8pA",
        "outputId": "a71bf946-087d-4fd7-9d9b-ccd1dccbe613"
      },
      "outputs": [
        {
          "output_type": "stream",
          "name": "stdout",
          "text": [
            "[[0, 0], [100, 10000]]\n"
          ]
        }
      ],
      "source": [
        "#here we have only 2 class and that is 0 and 1\n",
        "def simplified_confusion_matrix(y_actual, y_predicted, total_no_of_classes = 2):\n",
        "    #create the empty confusion matrix\n",
        "    confusion_mat = []\n",
        "\n",
        "    #here total_no_of_classes will be equal to total numbers of rows in the confusion matrix\n",
        "    for row in range(total_no_of_classes):\n",
        "      append_row = []\n",
        "      for column in range(total_no_of_classes):\n",
        "        append_row.append(calculate_values(y_actual, y_predicted, row, column))\n",
        "      confusion_mat.append(append_row)\n",
        "\n",
        "    #return the confusion matrix\n",
        "    return confusion_mat\n",
        "\n",
        "\n",
        "confusion_matrix = simplified_confusion_matrix(y_actual, y_predicted)\n",
        "print(confusion_matrix)"
      ]
    },
    {
      "cell_type": "code",
      "execution_count": 7,
      "metadata": {
        "colab": {
          "base_uri": "https://localhost:8080/"
        },
        "id": "3LKHK8I2OtkB",
        "outputId": "28b3058c-62dc-4173-f38a-5180ae2ffffc"
      },
      "outputs": [
        {
          "output_type": "stream",
          "name": "stdout",
          "text": [
            "total #+ve points in my test dataset = 10000\r\n",
            "total #-ve points in my test dataset = 100\n"
          ]
        }
      ],
      "source": [
        "# total #+ve points in my test dataset\n",
        "total_positive = confusion_matrix[0][1] + confusion_matrix[1][1]\n",
        "#total #-ve points in my test dataset\n",
        "total_negative = confusion_matrix[0][0] + confusion_matrix[1][0]\n",
        "\n",
        "print(f\"total #+ve points in my test dataset = {total_positive}\\r\\ntotal #-ve points in my test dataset = {total_negative}\")"
      ]
    },
    {
      "cell_type": "markdown",
      "metadata": {
        "id": "J5FQDWmwCF8s"
      },
      "source": [
        "### 2- F1-Score calculation\n",
        "f1-score = 2*(precision * recall)/(precesion + recall)\n",
        "\n",
        "precision = (TP/(FP+TP))\n",
        "\n",
        "recall = (TP/P), where P = (FN + TP)\n",
        "\n",
        "Note:: P ==> Positive, N==> Negative, T ==> True, F ==> False\n"
      ]
    },
    {
      "cell_type": "code",
      "execution_count": 8,
      "metadata": {
        "colab": {
          "base_uri": "https://localhost:8080/"
        },
        "id": "5IAKZNHcbFtI",
        "outputId": "010a8397-34df-43d3-b107-4744fac475a5"
      },
      "outputs": [
        {
          "output_type": "stream",
          "name": "stdout",
          "text": [
            "f1-score = 0.9950248756218906\n"
          ]
        }
      ],
      "source": [
        "#2.F1 score\n",
        "\n",
        "def f1_Score(confusion_mat):\n",
        "  f1_score = 0\n",
        "  TN = confusion_mat[0][0]\n",
        "  FN = confusion_mat[0][1]\n",
        "  FP = confusion_mat[1][0]\n",
        "  TP = confusion_mat[1][1]\n",
        "  precision = TP / (FP + TP)\n",
        "  recall  = TP / (FN + TP)\n",
        "\n",
        "  f1_score = 2 * (precision * recall) / (precision + recall)\n",
        "  return f1_score\n",
        "\n",
        "print(f\"f1-score = {f1_Score(confusion_matrix)}\")"
      ]
    },
    {
      "cell_type": "markdown",
      "metadata": {
        "id": "CqEujn1vAwgl"
      },
      "source": [
        "### 3- AUC Score::\n"
      ]
    },
    {
      "cell_type": "code",
      "execution_count": 9,
      "metadata": {
        "id": "vnxaMTPSCEGQ"
      },
      "outputs": [],
      "source": [
        "def cal(sorted_y_actual, sorted_y_predicted, row, column):\n",
        "    return ((sorted_y_actual == column ) & (sorted_y_predicted == row)).sum()   #pandas sum\n",
        "\n",
        "def calculate_tpr_fpr_for_each_threshold(sorted_y_actual, sorted_y_predicted):\n",
        "    true_negative = cal(sorted_y_actual, sorted_y_predicted, 0, 0)  #cell (0,0)\n",
        "    false_negative = cal(sorted_y_actual, sorted_y_predicted, 0, 1) #cell (0,1)\n",
        "    false_positive = cal(sorted_y_actual, sorted_y_predicted, 1, 0) #cell (1,0)\n",
        "    true_positive = cal(sorted_y_actual, sorted_y_predicted, 1, 1)  #cell (1,1)\n",
        "\n",
        "    tpr = (true_positive) / (true_positive + true_negative)\n",
        "    fpr = (false_positive) / (true_positive + true_negative)\n",
        "    return tpr, fpr\n",
        "\n",
        "def calculate_TPR_FPR(df_a):\n",
        "    #create the empty tpr and fpr list\n",
        "    TPR = []\n",
        "    FPR = []\n",
        "\n",
        "    #sort the df_a in descending order of probability score\n",
        "    sorted_df_a_asending = df_a.sort_values(by=['proba'], ascending=False)\n",
        "    prob_thresholds = sorted_df_a_asending['proba'].unique()\n",
        "\n",
        "    #iterate throug the prob_thresholds and for each threshold calculate the TPR and FPR value\n",
        "    for threshold in tqdm(prob_thresholds):\n",
        "        y_predicted_threshold = np.where(sorted_df_a_asending['proba'] >= threshold, 1, 0)\n",
        "        append_tpr, append_fpr = calculate_tpr_fpr_for_each_threshold(sorted_df_a_asending['y'], y_predicted_threshold)\n",
        "        TPR.append(append_tpr)\n",
        "        FPR.append(append_fpr)\n",
        "    return TPR, FPR\n"
      ]
    },
    {
      "cell_type": "code",
      "execution_count": 11,
      "metadata": {
        "colab": {
          "base_uri": "https://localhost:8080/"
        },
        "id": "MFjEnjj-lsXE",
        "outputId": "f8f665d6-1536-4943-8a19-319fc8d83d19"
      },
      "outputs": [
        {
          "output_type": "stream",
          "name": "stderr",
          "text": [
            "100%|██████████| 10100/10100 [00:14<00:00, 678.33it/s]\n"
          ]
        }
      ],
      "source": [
        "TPR, FPR = calculate_TPR_FPR(df_a)"
      ]
    },
    {
      "cell_type": "code",
      "execution_count": 12,
      "metadata": {
        "colab": {
          "base_uri": "https://localhost:8080/"
        },
        "id": "5TuBt3r4lsXI",
        "outputId": "184abc4e-a008-470d-8eb6-a0852a85221a"
      },
      "outputs": [
        {
          "output_type": "stream",
          "name": "stdout",
          "text": [
            "AUC = 0.006645563276445804\n"
          ]
        }
      ],
      "source": [
        "#calculate partial AUC\n",
        "pAUC = np.trapz(TPR, FPR)\n",
        "print(f\"AUC = {pAUC}\")"
      ]
    },
    {
      "cell_type": "markdown",
      "metadata": {
        "id": "q8wvhdhylsXJ"
      },
      "source": [
        "### 4- Accuracy Score\n",
        "\n",
        "$ Accuracy = \\frac {total \\space \\#correctly \\space classified \\space test \\space data \\space points} {total \\space \\#points \\space in \\space test \\space dataset} = \\frac {TP + TN}{TP + TN + FP + FN} $"
      ]
    },
    {
      "cell_type": "code",
      "source": [
        "def accuracyScore(conf_mat, total_test_data_ponts):\n",
        "    TN = confusion_mat[0][0]\n",
        "    TP = confusion_mat[1][1]\n",
        "\n",
        "    return ((TP + TN)/ (total_test_data_ponts))\n"
      ],
      "metadata": {
        "id": "4Rwa0mMkk4aS"
      },
      "execution_count": 13,
      "outputs": []
    },
    {
      "cell_type": "code",
      "source": [
        "print(f\"Accuracy Score for df_a = {accuracyScore(confusion_matrix, len(y_predicted))}\")"
      ],
      "metadata": {
        "colab": {
          "base_uri": "https://localhost:8080/"
        },
        "id": "MarDkhSfVJbt",
        "outputId": "be114476-ab3b-487d-c1e3-2175cdfcb598"
      },
      "execution_count": 25,
      "outputs": [
        {
          "output_type": "stream",
          "name": "stdout",
          "text": [
            "Accuracy Score for df_a = 0.9900990099009901\n"
          ]
        }
      ]
    },
    {
      "cell_type": "markdown",
      "metadata": {
        "id": "fwibePDnEfXp",
        "outputId": "b051ce3c-4615-4aff-a3f6-f5da75698e37"
      },
      "source": [
        "\n",
        "\n",
        "## B. Compute performance metrics for the given data '5_b.csv'\n",
        "<pre>\n",
        "   <b>Note 1:</b> in this data you can see number of positive points << number of negatives points\n",
        "   <b>Note 2:</b> use pandas or numpy to read the data from <b>5_b.csv</b>\n",
        "   <b>Note 3:</b> you need to derive the class labels from given score</pre> $y^{pred}= \\text{[0 if y_score < 0.5 else 1]}$\n",
        "\n",
        "<pre>\n",
        "<ol>\n",
        "<li> Compute Confusion Matrix </li>\n",
        "<li> Compute F1 Score </li>\n",
        "<li> Compute AUC Score, you need to compute different thresholds and for each threshold compute tpr,fpr and then use <br>              numpy.trapz(tpr_array, fpr_array) <a href='https://stackoverflow.com/q/53603376/4084039'>https://stackoverflow.com/q/53603376/4084039</a>, <br>\n",
        " <a href='https://stackoverflow.com/a/39678975/4084039'>https://stackoverflow.com/a/39678975/4084039</a>\n",
        "Note- Make sure that you arrange your probability scores in descending order while calculating AUC</li>\n",
        "<li> Compute Accuracy Score </li>\n",
        "</ol>\n",
        "</pre>"
      ]
    },
    {
      "cell_type": "code",
      "source": [
        "!wget --header=\"Host: drive.usercontent.google.com\" --header=\"User-Agent: Mozilla/5.0 (X11; Linux x86_64) AppleWebKit/537.36 (KHTML, like Gecko) Chrome/126.0.0.0 Safari/537.36\" --header=\"Accept: text/html,application/xhtml+xml,application/xml;q=0.9,image/avif,image/webp,image/apng,*/*;q=0.8,application/signed-exchange;v=b3;q=0.7\" --header=\"Accept-Language: en-US,en;q=0.9,hi;q=0.8\" --header=\"Cookie: SID=g.a000lghhqPeXWo_YO86EX9TjDVyOPXFHoudkgVzZCFbbaXb7FC93iDBd5XPEFVH2P96fT4whhwACgYKAWkSARYSFQHGX2MitruJpmq0OYVRlQyYGxMHsxoVAUF8yKp4VuoR8YjFKLfB6Ecm5-Ub0076; __Secure-1PSID=g.a000lghhqPeXWo_YO86EX9TjDVyOPXFHoudkgVzZCFbbaXb7FC93JUW0iPYtG2eS42YD1g2DxAACgYKAUESARYSFQHGX2MiFnJonx4WeQNWhRPLb82fWhoVAUF8yKoWuiCzPMqincZpH05Lokk30076; __Secure-3PSID=g.a000lghhqPeXWo_YO86EX9TjDVyOPXFHoudkgVzZCFbbaXb7FC93rqACJm2Bh6v8rM2FsUlRfwACgYKATcSARYSFQHGX2Mi9ZZ4UGKXqPi9RN7CqHQywBoVAUF8yKq6wXbPwCB2DT2Bo5FyiH_c0076; HSID=AFP_LKjSnJG5fnOd0; SSID=AI5Nsd4pEA22MuFu1; APISID=hsmKaIeKzn3rEbrz/As15XLTUT6u1DhOdB; SAPISID=i8wmL9i_s18ZGtly/A-z1fPUTYNL2Qie_h; __Secure-1PAPISID=i8wmL9i_s18ZGtly/A-z1fPUTYNL2Qie_h; __Secure-3PAPISID=i8wmL9i_s18ZGtly/A-z1fPUTYNL2Qie_h; AEC=AVYB7cp1-GunO0JBGIUvipmCVevDzfqrE1D7_the-poy5zioqVsnfpD2SSQ; NID=515=CZ7rhGQKq-6IxkmxzstGyl3ePTwo4dYf3OFJart1FJi63Eej3ulmcGFGDh2uTU2jelNc2WqsVyIT_H9troLUvIwenkvGwYIilyubd-tKcM2WMcrfUXLoY1w4CmCLqTl5C-xodTXzngOvBNXXmLjywjCgKNY7bGNDdNS2BouIeM7zlPewHmxWIcHh1njkQSQeYpADlRUv-g6_Keu8Wsf0PiFueSOVfKazNEhTNbUCtrKdV8eF_WkCUF6Gav_D2RmmJBQrR_EZ-X9Vlb2J_ZImtNP5WIAwELbBf2od7Fh9qT_L_QmhLeq0u3z2ojdz1L9AqOuXeSNnbqa5Zg5_tbJSdFJhXddgGxeWLQ; __Secure-1PSIDTS=sidts-CjEB4E2dkbh15sFw579xZqjIL3_lnwYO-QTm6SC9FtQDWUv2odB6NpavupCoqeRV-77_EAA; __Secure-3PSIDTS=sidts-CjEB4E2dkbh15sFw579xZqjIL3_lnwYO-QTm6SC9FtQDWUv2odB6NpavupCoqeRV-77_EAA; SIDCC=AKEyXzUYVxKyMbWlFo7k_fJB79KldUSnJT8gjZLn2CjBJdlqV1ZBe6YSh-l2GEJaFSZf0AxLXZc; __Secure-1PSIDCC=AKEyXzVrsYT-uZV6k6_S_YzqwgQhAdDfATjQWWCtNf-AJUfzYqcrtC79buDJVSAbuwk6ZvmjKA; __Secure-3PSIDCC=AKEyXzVdOF_UCaGo68u67eU6Ay-Pvy8NKQ7r4Mc99xgiUAt-03SDdU2PtTnze9x5ik1Ezk6TM0k\" --header=\"Connection: keep-alive\" \"https://drive.usercontent.google.com/download?id=1i3VlWFBq0ZO5Ec7rMiTwcYbsMQtTpipK&export=download&authuser=0&confirm=t&uuid=c3f5e390-72a6-49bf-8f6c-309822ffc3f5&at=APZUnTUPz8GIdbwqqEP_dX1GtNd0:1720676762480\" -c -O '5_b.csv'"
      ],
      "metadata": {
        "colab": {
          "base_uri": "https://localhost:8080/"
        },
        "id": "apr8MFD1mXXJ",
        "outputId": "1038d2a7-9d0c-4146-ee6b-aa5d9cb51c3e"
      },
      "execution_count": 15,
      "outputs": [
        {
          "output_type": "stream",
          "name": "stdout",
          "text": [
            "--2024-07-11 05:46:16--  https://drive.usercontent.google.com/download?id=1i3VlWFBq0ZO5Ec7rMiTwcYbsMQtTpipK&export=download&authuser=0&confirm=t&uuid=c3f5e390-72a6-49bf-8f6c-309822ffc3f5&at=APZUnTUPz8GIdbwqqEP_dX1GtNd0:1720676762480\n",
            "Resolving drive.usercontent.google.com (drive.usercontent.google.com)... 74.125.26.132, 2607:f8b0:400c:c04::84\n",
            "Connecting to drive.usercontent.google.com (drive.usercontent.google.com)|74.125.26.132|:443... connected.\n",
            "HTTP request sent, awaiting response... 200 OK\n",
            "Length: 247322 (242K) [application/octet-stream]\n",
            "Saving to: ‘5_b.csv’\n",
            "\n",
            "5_b.csv             100%[===================>] 241.53K  --.-KB/s    in 0.005s  \n",
            "\n",
            "2024-07-11 05:46:17 (48.2 MB/s) - ‘5_b.csv’ saved [247322/247322]\n",
            "\n"
          ]
        }
      ]
    },
    {
      "cell_type": "code",
      "execution_count": 17,
      "metadata": {
        "id": "U2sKlq0YQvn5",
        "colab": {
          "base_uri": "https://localhost:8080/",
          "height": 206
        },
        "outputId": "a24ca2cd-232c-4d32-9e5f-02d1b58649f4"
      },
      "outputs": [
        {
          "output_type": "execute_result",
          "data": {
            "text/plain": [
              "     y     proba\n",
              "0  0.0  0.281035\n",
              "1  0.0  0.465152\n",
              "2  0.0  0.352793\n",
              "3  0.0  0.157818\n",
              "4  0.0  0.276648"
            ],
            "text/html": [
              "\n",
              "  <div id=\"df-b2846875-04b7-4b2a-9307-3ba437bd4425\" class=\"colab-df-container\">\n",
              "    <div>\n",
              "<style scoped>\n",
              "    .dataframe tbody tr th:only-of-type {\n",
              "        vertical-align: middle;\n",
              "    }\n",
              "\n",
              "    .dataframe tbody tr th {\n",
              "        vertical-align: top;\n",
              "    }\n",
              "\n",
              "    .dataframe thead th {\n",
              "        text-align: right;\n",
              "    }\n",
              "</style>\n",
              "<table border=\"1\" class=\"dataframe\">\n",
              "  <thead>\n",
              "    <tr style=\"text-align: right;\">\n",
              "      <th></th>\n",
              "      <th>y</th>\n",
              "      <th>proba</th>\n",
              "    </tr>\n",
              "  </thead>\n",
              "  <tbody>\n",
              "    <tr>\n",
              "      <th>0</th>\n",
              "      <td>0.0</td>\n",
              "      <td>0.281035</td>\n",
              "    </tr>\n",
              "    <tr>\n",
              "      <th>1</th>\n",
              "      <td>0.0</td>\n",
              "      <td>0.465152</td>\n",
              "    </tr>\n",
              "    <tr>\n",
              "      <th>2</th>\n",
              "      <td>0.0</td>\n",
              "      <td>0.352793</td>\n",
              "    </tr>\n",
              "    <tr>\n",
              "      <th>3</th>\n",
              "      <td>0.0</td>\n",
              "      <td>0.157818</td>\n",
              "    </tr>\n",
              "    <tr>\n",
              "      <th>4</th>\n",
              "      <td>0.0</td>\n",
              "      <td>0.276648</td>\n",
              "    </tr>\n",
              "  </tbody>\n",
              "</table>\n",
              "</div>\n",
              "    <div class=\"colab-df-buttons\">\n",
              "\n",
              "  <div class=\"colab-df-container\">\n",
              "    <button class=\"colab-df-convert\" onclick=\"convertToInteractive('df-b2846875-04b7-4b2a-9307-3ba437bd4425')\"\n",
              "            title=\"Convert this dataframe to an interactive table.\"\n",
              "            style=\"display:none;\">\n",
              "\n",
              "  <svg xmlns=\"http://www.w3.org/2000/svg\" height=\"24px\" viewBox=\"0 -960 960 960\">\n",
              "    <path d=\"M120-120v-720h720v720H120Zm60-500h600v-160H180v160Zm220 220h160v-160H400v160Zm0 220h160v-160H400v160ZM180-400h160v-160H180v160Zm440 0h160v-160H620v160ZM180-180h160v-160H180v160Zm440 0h160v-160H620v160Z\"/>\n",
              "  </svg>\n",
              "    </button>\n",
              "\n",
              "  <style>\n",
              "    .colab-df-container {\n",
              "      display:flex;\n",
              "      gap: 12px;\n",
              "    }\n",
              "\n",
              "    .colab-df-convert {\n",
              "      background-color: #E8F0FE;\n",
              "      border: none;\n",
              "      border-radius: 50%;\n",
              "      cursor: pointer;\n",
              "      display: none;\n",
              "      fill: #1967D2;\n",
              "      height: 32px;\n",
              "      padding: 0 0 0 0;\n",
              "      width: 32px;\n",
              "    }\n",
              "\n",
              "    .colab-df-convert:hover {\n",
              "      background-color: #E2EBFA;\n",
              "      box-shadow: 0px 1px 2px rgba(60, 64, 67, 0.3), 0px 1px 3px 1px rgba(60, 64, 67, 0.15);\n",
              "      fill: #174EA6;\n",
              "    }\n",
              "\n",
              "    .colab-df-buttons div {\n",
              "      margin-bottom: 4px;\n",
              "    }\n",
              "\n",
              "    [theme=dark] .colab-df-convert {\n",
              "      background-color: #3B4455;\n",
              "      fill: #D2E3FC;\n",
              "    }\n",
              "\n",
              "    [theme=dark] .colab-df-convert:hover {\n",
              "      background-color: #434B5C;\n",
              "      box-shadow: 0px 1px 3px 1px rgba(0, 0, 0, 0.15);\n",
              "      filter: drop-shadow(0px 1px 2px rgba(0, 0, 0, 0.3));\n",
              "      fill: #FFFFFF;\n",
              "    }\n",
              "  </style>\n",
              "\n",
              "    <script>\n",
              "      const buttonEl =\n",
              "        document.querySelector('#df-b2846875-04b7-4b2a-9307-3ba437bd4425 button.colab-df-convert');\n",
              "      buttonEl.style.display =\n",
              "        google.colab.kernel.accessAllowed ? 'block' : 'none';\n",
              "\n",
              "      async function convertToInteractive(key) {\n",
              "        const element = document.querySelector('#df-b2846875-04b7-4b2a-9307-3ba437bd4425');\n",
              "        const dataTable =\n",
              "          await google.colab.kernel.invokeFunction('convertToInteractive',\n",
              "                                                    [key], {});\n",
              "        if (!dataTable) return;\n",
              "\n",
              "        const docLinkHtml = 'Like what you see? Visit the ' +\n",
              "          '<a target=\"_blank\" href=https://colab.research.google.com/notebooks/data_table.ipynb>data table notebook</a>'\n",
              "          + ' to learn more about interactive tables.';\n",
              "        element.innerHTML = '';\n",
              "        dataTable['output_type'] = 'display_data';\n",
              "        await google.colab.output.renderOutput(dataTable, element);\n",
              "        const docLink = document.createElement('div');\n",
              "        docLink.innerHTML = docLinkHtml;\n",
              "        element.appendChild(docLink);\n",
              "      }\n",
              "    </script>\n",
              "  </div>\n",
              "\n",
              "\n",
              "<div id=\"df-7d972704-3601-4e7a-ad09-a22340723a51\">\n",
              "  <button class=\"colab-df-quickchart\" onclick=\"quickchart('df-7d972704-3601-4e7a-ad09-a22340723a51')\"\n",
              "            title=\"Suggest charts\"\n",
              "            style=\"display:none;\">\n",
              "\n",
              "<svg xmlns=\"http://www.w3.org/2000/svg\" height=\"24px\"viewBox=\"0 0 24 24\"\n",
              "     width=\"24px\">\n",
              "    <g>\n",
              "        <path d=\"M19 3H5c-1.1 0-2 .9-2 2v14c0 1.1.9 2 2 2h14c1.1 0 2-.9 2-2V5c0-1.1-.9-2-2-2zM9 17H7v-7h2v7zm4 0h-2V7h2v10zm4 0h-2v-4h2v4z\"/>\n",
              "    </g>\n",
              "</svg>\n",
              "  </button>\n",
              "\n",
              "<style>\n",
              "  .colab-df-quickchart {\n",
              "      --bg-color: #E8F0FE;\n",
              "      --fill-color: #1967D2;\n",
              "      --hover-bg-color: #E2EBFA;\n",
              "      --hover-fill-color: #174EA6;\n",
              "      --disabled-fill-color: #AAA;\n",
              "      --disabled-bg-color: #DDD;\n",
              "  }\n",
              "\n",
              "  [theme=dark] .colab-df-quickchart {\n",
              "      --bg-color: #3B4455;\n",
              "      --fill-color: #D2E3FC;\n",
              "      --hover-bg-color: #434B5C;\n",
              "      --hover-fill-color: #FFFFFF;\n",
              "      --disabled-bg-color: #3B4455;\n",
              "      --disabled-fill-color: #666;\n",
              "  }\n",
              "\n",
              "  .colab-df-quickchart {\n",
              "    background-color: var(--bg-color);\n",
              "    border: none;\n",
              "    border-radius: 50%;\n",
              "    cursor: pointer;\n",
              "    display: none;\n",
              "    fill: var(--fill-color);\n",
              "    height: 32px;\n",
              "    padding: 0;\n",
              "    width: 32px;\n",
              "  }\n",
              "\n",
              "  .colab-df-quickchart:hover {\n",
              "    background-color: var(--hover-bg-color);\n",
              "    box-shadow: 0 1px 2px rgba(60, 64, 67, 0.3), 0 1px 3px 1px rgba(60, 64, 67, 0.15);\n",
              "    fill: var(--button-hover-fill-color);\n",
              "  }\n",
              "\n",
              "  .colab-df-quickchart-complete:disabled,\n",
              "  .colab-df-quickchart-complete:disabled:hover {\n",
              "    background-color: var(--disabled-bg-color);\n",
              "    fill: var(--disabled-fill-color);\n",
              "    box-shadow: none;\n",
              "  }\n",
              "\n",
              "  .colab-df-spinner {\n",
              "    border: 2px solid var(--fill-color);\n",
              "    border-color: transparent;\n",
              "    border-bottom-color: var(--fill-color);\n",
              "    animation:\n",
              "      spin 1s steps(1) infinite;\n",
              "  }\n",
              "\n",
              "  @keyframes spin {\n",
              "    0% {\n",
              "      border-color: transparent;\n",
              "      border-bottom-color: var(--fill-color);\n",
              "      border-left-color: var(--fill-color);\n",
              "    }\n",
              "    20% {\n",
              "      border-color: transparent;\n",
              "      border-left-color: var(--fill-color);\n",
              "      border-top-color: var(--fill-color);\n",
              "    }\n",
              "    30% {\n",
              "      border-color: transparent;\n",
              "      border-left-color: var(--fill-color);\n",
              "      border-top-color: var(--fill-color);\n",
              "      border-right-color: var(--fill-color);\n",
              "    }\n",
              "    40% {\n",
              "      border-color: transparent;\n",
              "      border-right-color: var(--fill-color);\n",
              "      border-top-color: var(--fill-color);\n",
              "    }\n",
              "    60% {\n",
              "      border-color: transparent;\n",
              "      border-right-color: var(--fill-color);\n",
              "    }\n",
              "    80% {\n",
              "      border-color: transparent;\n",
              "      border-right-color: var(--fill-color);\n",
              "      border-bottom-color: var(--fill-color);\n",
              "    }\n",
              "    90% {\n",
              "      border-color: transparent;\n",
              "      border-bottom-color: var(--fill-color);\n",
              "    }\n",
              "  }\n",
              "</style>\n",
              "\n",
              "  <script>\n",
              "    async function quickchart(key) {\n",
              "      const quickchartButtonEl =\n",
              "        document.querySelector('#' + key + ' button');\n",
              "      quickchartButtonEl.disabled = true;  // To prevent multiple clicks.\n",
              "      quickchartButtonEl.classList.add('colab-df-spinner');\n",
              "      try {\n",
              "        const charts = await google.colab.kernel.invokeFunction(\n",
              "            'suggestCharts', [key], {});\n",
              "      } catch (error) {\n",
              "        console.error('Error during call to suggestCharts:', error);\n",
              "      }\n",
              "      quickchartButtonEl.classList.remove('colab-df-spinner');\n",
              "      quickchartButtonEl.classList.add('colab-df-quickchart-complete');\n",
              "    }\n",
              "    (() => {\n",
              "      let quickchartButtonEl =\n",
              "        document.querySelector('#df-7d972704-3601-4e7a-ad09-a22340723a51 button');\n",
              "      quickchartButtonEl.style.display =\n",
              "        google.colab.kernel.accessAllowed ? 'block' : 'none';\n",
              "    })();\n",
              "  </script>\n",
              "</div>\n",
              "\n",
              "    </div>\n",
              "  </div>\n"
            ],
            "application/vnd.google.colaboratory.intrinsic+json": {
              "type": "dataframe",
              "variable_name": "df_b",
              "summary": "{\n  \"name\": \"df_b\",\n  \"rows\": 10100,\n  \"fields\": [\n    {\n      \"column\": \"y\",\n      \"properties\": {\n        \"dtype\": \"number\",\n        \"std\": 0.09901480283434737,\n        \"min\": 0.0,\n        \"max\": 1.0,\n        \"num_unique_values\": 2,\n        \"samples\": [\n          1.0,\n          0.0\n        ],\n        \"semantic_type\": \"\",\n        \"description\": \"\"\n      }\n    },\n    {\n      \"column\": \"proba\",\n      \"properties\": {\n        \"dtype\": \"number\",\n        \"std\": 0.12012675966908555,\n        \"min\": 0.1000014128557891,\n        \"max\": 0.5952941839776669,\n        \"num_unique_values\": 10100,\n        \"samples\": [\n          0.4486134963991915,\n          0.2301752469482357\n        ],\n        \"semantic_type\": \"\",\n        \"description\": \"\"\n      }\n    }\n  ]\n}"
            }
          },
          "metadata": {},
          "execution_count": 17
        }
      ],
      "source": [
        "df_b=pd.read_csv('5_b.csv')\n",
        "df_b.head()"
      ]
    },
    {
      "cell_type": "code",
      "execution_count": 18,
      "metadata": {
        "id": "xlLVa-cVAfCS"
      },
      "outputs": [],
      "source": [
        "# write your code here for task B\n",
        "y_actual = df_b['y']\n",
        "y_predicted = [1 if (y_real >= 0.5) else 0 for y_real in df_a[\"proba\"]]"
      ]
    },
    {
      "cell_type": "markdown",
      "metadata": {
        "id": "d9ielsg3lsXL"
      },
      "source": [
        "### 1- Confusion Matrix"
      ]
    },
    {
      "cell_type": "code",
      "execution_count": 19,
      "metadata": {
        "colab": {
          "base_uri": "https://localhost:8080/"
        },
        "id": "lbllZQxvlsXL",
        "outputId": "c87907a8-e2dc-4537-b540-442f314cc3c6"
      },
      "outputs": [
        {
          "output_type": "stream",
          "name": "stdout",
          "text": [
            "confusion matrix = [[0, 0], [10000, 100]]\n"
          ]
        }
      ],
      "source": [
        "conf_mat = simplified_confusion_matrix(y_actual, y_predicted)\n",
        "print(f\"confusion matrix = {conf_mat}\")"
      ]
    },
    {
      "cell_type": "markdown",
      "metadata": {
        "id": "4vi65rRAlsXM"
      },
      "source": [
        "### 2- F1-Score"
      ]
    },
    {
      "cell_type": "code",
      "execution_count": 20,
      "metadata": {
        "colab": {
          "base_uri": "https://localhost:8080/"
        },
        "id": "zAia1a_slsXN",
        "outputId": "91b7dc49-66c4-49f4-ac12-162d54473289"
      },
      "outputs": [
        {
          "output_type": "stream",
          "name": "stdout",
          "text": [
            "F1-Score = 0.0196078431372549\n"
          ]
        }
      ],
      "source": [
        "f1_score = f1_Score(conf_mat)\n",
        "print(f\"F1-Score = {f1_score}\")"
      ]
    },
    {
      "cell_type": "markdown",
      "metadata": {
        "id": "5woJ85GslsXN"
      },
      "source": [
        "### 3- Area Under the Curve(AUC)"
      ]
    },
    {
      "cell_type": "code",
      "execution_count": 62,
      "metadata": {
        "colab": {
          "base_uri": "https://localhost:8080/"
        },
        "id": "HfTEBrhllsXO",
        "outputId": "2444187f-f12f-4264-aae4-7e3342aa98b5"
      },
      "outputs": [
        {
          "output_type": "stream",
          "name": "stderr",
          "text": [
            "100%|██████████| 10100/10100 [00:15<00:00, 649.19it/s]\n"
          ]
        }
      ],
      "source": [
        "#calculate TPR, FPR\n",
        "TPR, FPR = calculate_TPR_FPR(df_b)\n",
        "#print(f\"TPR = {TPR} \\nFPR = {FPR}\")"
      ]
    },
    {
      "cell_type": "code",
      "execution_count": 24,
      "metadata": {
        "colab": {
          "base_uri": "https://localhost:8080/"
        },
        "id": "DmXAacvXlsXO",
        "outputId": "9e611e0e-04de-484c-fd00-e3aa97066dfa"
      },
      "outputs": [
        {
          "output_type": "stream",
          "name": "stdout",
          "text": [
            "AUC = 50.49423200713714\n"
          ]
        }
      ],
      "source": [
        "#calculate partial AUC\n",
        "pAUC = np.trapz(TPR, FPR)\n",
        "print(f\"AUC = {pAUC}\")"
      ]
    },
    {
      "cell_type": "markdown",
      "source": [
        "### 4- Accuracy Score"
      ],
      "metadata": {
        "id": "r_Jb1pkmn41z"
      }
    },
    {
      "cell_type": "code",
      "source": [
        "print(f\"Accuracy Score for df_b = {accuracyScore(conf_mat, len(y_predicted))}\")"
      ],
      "metadata": {
        "id": "xOe6xtHXn5-I",
        "colab": {
          "base_uri": "https://localhost:8080/"
        },
        "outputId": "abe4f116-af88-4a8e-ee70-6dff54c520ae"
      },
      "execution_count": 26,
      "outputs": [
        {
          "output_type": "stream",
          "name": "stdout",
          "text": [
            "Accuracy Score for df_b = 0.9900990099009901\n"
          ]
        }
      ]
    },
    {
      "cell_type": "markdown",
      "metadata": {
        "id": "GiPGonTzQvoB"
      },
      "source": [
        "### C. Compute the best threshold (similarly to ROC curve computation) of probability which gives lowest values of metric <b>A</b> for the given data\n",
        "<br>\n",
        "\n",
        "you will be predicting label of a data points like this:\n",
        "\n",
        "$ y^{pred}= \\text{[0 if y_score < threshold  else 1]}\n",
        "\n",
        "$ A = 500 \\times \\text{number of false negative} + 100 \\times \\text{numebr of false positive}$\n",
        "\n",
        "<pre>\n",
        "   <b>Note 1:</b> in this data you can see number of negative points > number of positive points\n",
        "   <b>Note 2:</b> use pandas or numpy to read the data from <b>5_c.csv</b>\n",
        "</pre>"
      ]
    },
    {
      "cell_type": "code",
      "source": [
        "!wget --header=\"Host: drive.usercontent.google.com\" --header=\"User-Agent: Mozilla/5.0 (X11; Linux x86_64) AppleWebKit/537.36 (KHTML, like Gecko) Chrome/126.0.0.0 Safari/537.36\" --header=\"Accept: text/html,application/xhtml+xml,application/xml;q=0.9,image/avif,image/webp,image/apng,*/*;q=0.8,application/signed-exchange;v=b3;q=0.7\" --header=\"Accept-Language: en-US,en;q=0.9,hi;q=0.8\" --header=\"Cookie: SID=g.a000lghhqPeXWo_YO86EX9TjDVyOPXFHoudkgVzZCFbbaXb7FC93iDBd5XPEFVH2P96fT4whhwACgYKAWkSARYSFQHGX2MitruJpmq0OYVRlQyYGxMHsxoVAUF8yKp4VuoR8YjFKLfB6Ecm5-Ub0076; __Secure-1PSID=g.a000lghhqPeXWo_YO86EX9TjDVyOPXFHoudkgVzZCFbbaXb7FC93JUW0iPYtG2eS42YD1g2DxAACgYKAUESARYSFQHGX2MiFnJonx4WeQNWhRPLb82fWhoVAUF8yKoWuiCzPMqincZpH05Lokk30076; __Secure-3PSID=g.a000lghhqPeXWo_YO86EX9TjDVyOPXFHoudkgVzZCFbbaXb7FC93rqACJm2Bh6v8rM2FsUlRfwACgYKATcSARYSFQHGX2Mi9ZZ4UGKXqPi9RN7CqHQywBoVAUF8yKq6wXbPwCB2DT2Bo5FyiH_c0076; HSID=AFP_LKjSnJG5fnOd0; SSID=AI5Nsd4pEA22MuFu1; APISID=hsmKaIeKzn3rEbrz/As15XLTUT6u1DhOdB; SAPISID=i8wmL9i_s18ZGtly/A-z1fPUTYNL2Qie_h; __Secure-1PAPISID=i8wmL9i_s18ZGtly/A-z1fPUTYNL2Qie_h; __Secure-3PAPISID=i8wmL9i_s18ZGtly/A-z1fPUTYNL2Qie_h; AEC=AVYB7cp1-GunO0JBGIUvipmCVevDzfqrE1D7_the-poy5zioqVsnfpD2SSQ; NID=515=CZ7rhGQKq-6IxkmxzstGyl3ePTwo4dYf3OFJart1FJi63Eej3ulmcGFGDh2uTU2jelNc2WqsVyIT_H9troLUvIwenkvGwYIilyubd-tKcM2WMcrfUXLoY1w4CmCLqTl5C-xodTXzngOvBNXXmLjywjCgKNY7bGNDdNS2BouIeM7zlPewHmxWIcHh1njkQSQeYpADlRUv-g6_Keu8Wsf0PiFueSOVfKazNEhTNbUCtrKdV8eF_WkCUF6Gav_D2RmmJBQrR_EZ-X9Vlb2J_ZImtNP5WIAwELbBf2od7Fh9qT_L_QmhLeq0u3z2ojdz1L9AqOuXeSNnbqa5Zg5_tbJSdFJhXddgGxeWLQ; __Secure-1PSIDTS=sidts-CjEB4E2dkTzxbIg2TcueRTSV65CFvgzI1Y75zKxs79zoarC1hphLIdPQBgfZ80o2k5PBEAA; __Secure-3PSIDTS=sidts-CjEB4E2dkTzxbIg2TcueRTSV65CFvgzI1Y75zKxs79zoarC1hphLIdPQBgfZ80o2k5PBEAA; SIDCC=AKEyXzV-TXP_F4Mjr9ItrCiw62_4LvhEG7QfAM2mxX0-IOQxWJmuS6UbmiVDjCO47MS5ZkRboR4; __Secure-1PSIDCC=AKEyXzUXXige0zF4gqaZrhZrlbRJ_PgWkkhB00spUAffgWdtdEfohghSyRTT05QmCqzb64kRDA; __Secure-3PSIDCC=AKEyXzWU_NVNRWhPILUuTipVv8pBuJr8XQINIizMZXro7Ec8CzbdT2tsgePzc982Npb421_Yy90\" --header=\"Connection: keep-alive\" \"https://drive.usercontent.google.com/download?id=1U1A3VQ52oMcg7SCb-OyePZLpFL8xWdGv&export=download&authuser=0&confirm=t&uuid=cb604ed2-108f-4258-9d0d-f349a4c74ded&at=APZUnTUAEryet0h-2FqwwUHbVreu:1720677261607\" -c -O '5_c.csv'"
      ],
      "metadata": {
        "colab": {
          "base_uri": "https://localhost:8080/"
        },
        "id": "Zpz5cV2om-Bn",
        "outputId": "af54e62f-451e-4f97-a489-7b09b8851e03"
      },
      "execution_count": 27,
      "outputs": [
        {
          "output_type": "stream",
          "name": "stdout",
          "text": [
            "--2024-07-11 05:54:42--  https://drive.usercontent.google.com/download?id=1U1A3VQ52oMcg7SCb-OyePZLpFL8xWdGv&export=download&authuser=0&confirm=t&uuid=cb604ed2-108f-4258-9d0d-f349a4c74ded&at=APZUnTUAEryet0h-2FqwwUHbVreu:1720677261607\n",
            "Resolving drive.usercontent.google.com (drive.usercontent.google.com)... 74.125.26.132, 2607:f8b0:400c:c04::84\n",
            "Connecting to drive.usercontent.google.com (drive.usercontent.google.com)|74.125.26.132|:443... connected.\n",
            "HTTP request sent, awaiting response... 200 OK\n",
            "Length: 63471 (62K) [application/octet-stream]\n",
            "Saving to: ‘5_c.csv’\n",
            "\n",
            "5_c.csv             100%[===================>]  61.98K  --.-KB/s    in 0.001s  \n",
            "\n",
            "2024-07-11 05:54:42 (72.3 MB/s) - ‘5_c.csv’ saved [63471/63471]\n",
            "\n"
          ]
        }
      ]
    },
    {
      "cell_type": "code",
      "execution_count": 28,
      "metadata": {
        "id": "x5HIJzq1QvoE",
        "colab": {
          "base_uri": "https://localhost:8080/",
          "height": 206
        },
        "outputId": "948a20ff-8e00-42c5-be8b-4e0520b89184"
      },
      "outputs": [
        {
          "output_type": "execute_result",
          "data": {
            "text/plain": [
              "   y      prob\n",
              "0  0  0.458521\n",
              "1  0  0.505037\n",
              "2  0  0.418652\n",
              "3  0  0.412057\n",
              "4  0  0.375579"
            ],
            "text/html": [
              "\n",
              "  <div id=\"df-1451dd02-39f9-4c59-afa2-b27b67e4baed\" class=\"colab-df-container\">\n",
              "    <div>\n",
              "<style scoped>\n",
              "    .dataframe tbody tr th:only-of-type {\n",
              "        vertical-align: middle;\n",
              "    }\n",
              "\n",
              "    .dataframe tbody tr th {\n",
              "        vertical-align: top;\n",
              "    }\n",
              "\n",
              "    .dataframe thead th {\n",
              "        text-align: right;\n",
              "    }\n",
              "</style>\n",
              "<table border=\"1\" class=\"dataframe\">\n",
              "  <thead>\n",
              "    <tr style=\"text-align: right;\">\n",
              "      <th></th>\n",
              "      <th>y</th>\n",
              "      <th>prob</th>\n",
              "    </tr>\n",
              "  </thead>\n",
              "  <tbody>\n",
              "    <tr>\n",
              "      <th>0</th>\n",
              "      <td>0</td>\n",
              "      <td>0.458521</td>\n",
              "    </tr>\n",
              "    <tr>\n",
              "      <th>1</th>\n",
              "      <td>0</td>\n",
              "      <td>0.505037</td>\n",
              "    </tr>\n",
              "    <tr>\n",
              "      <th>2</th>\n",
              "      <td>0</td>\n",
              "      <td>0.418652</td>\n",
              "    </tr>\n",
              "    <tr>\n",
              "      <th>3</th>\n",
              "      <td>0</td>\n",
              "      <td>0.412057</td>\n",
              "    </tr>\n",
              "    <tr>\n",
              "      <th>4</th>\n",
              "      <td>0</td>\n",
              "      <td>0.375579</td>\n",
              "    </tr>\n",
              "  </tbody>\n",
              "</table>\n",
              "</div>\n",
              "    <div class=\"colab-df-buttons\">\n",
              "\n",
              "  <div class=\"colab-df-container\">\n",
              "    <button class=\"colab-df-convert\" onclick=\"convertToInteractive('df-1451dd02-39f9-4c59-afa2-b27b67e4baed')\"\n",
              "            title=\"Convert this dataframe to an interactive table.\"\n",
              "            style=\"display:none;\">\n",
              "\n",
              "  <svg xmlns=\"http://www.w3.org/2000/svg\" height=\"24px\" viewBox=\"0 -960 960 960\">\n",
              "    <path d=\"M120-120v-720h720v720H120Zm60-500h600v-160H180v160Zm220 220h160v-160H400v160Zm0 220h160v-160H400v160ZM180-400h160v-160H180v160Zm440 0h160v-160H620v160ZM180-180h160v-160H180v160Zm440 0h160v-160H620v160Z\"/>\n",
              "  </svg>\n",
              "    </button>\n",
              "\n",
              "  <style>\n",
              "    .colab-df-container {\n",
              "      display:flex;\n",
              "      gap: 12px;\n",
              "    }\n",
              "\n",
              "    .colab-df-convert {\n",
              "      background-color: #E8F0FE;\n",
              "      border: none;\n",
              "      border-radius: 50%;\n",
              "      cursor: pointer;\n",
              "      display: none;\n",
              "      fill: #1967D2;\n",
              "      height: 32px;\n",
              "      padding: 0 0 0 0;\n",
              "      width: 32px;\n",
              "    }\n",
              "\n",
              "    .colab-df-convert:hover {\n",
              "      background-color: #E2EBFA;\n",
              "      box-shadow: 0px 1px 2px rgba(60, 64, 67, 0.3), 0px 1px 3px 1px rgba(60, 64, 67, 0.15);\n",
              "      fill: #174EA6;\n",
              "    }\n",
              "\n",
              "    .colab-df-buttons div {\n",
              "      margin-bottom: 4px;\n",
              "    }\n",
              "\n",
              "    [theme=dark] .colab-df-convert {\n",
              "      background-color: #3B4455;\n",
              "      fill: #D2E3FC;\n",
              "    }\n",
              "\n",
              "    [theme=dark] .colab-df-convert:hover {\n",
              "      background-color: #434B5C;\n",
              "      box-shadow: 0px 1px 3px 1px rgba(0, 0, 0, 0.15);\n",
              "      filter: drop-shadow(0px 1px 2px rgba(0, 0, 0, 0.3));\n",
              "      fill: #FFFFFF;\n",
              "    }\n",
              "  </style>\n",
              "\n",
              "    <script>\n",
              "      const buttonEl =\n",
              "        document.querySelector('#df-1451dd02-39f9-4c59-afa2-b27b67e4baed button.colab-df-convert');\n",
              "      buttonEl.style.display =\n",
              "        google.colab.kernel.accessAllowed ? 'block' : 'none';\n",
              "\n",
              "      async function convertToInteractive(key) {\n",
              "        const element = document.querySelector('#df-1451dd02-39f9-4c59-afa2-b27b67e4baed');\n",
              "        const dataTable =\n",
              "          await google.colab.kernel.invokeFunction('convertToInteractive',\n",
              "                                                    [key], {});\n",
              "        if (!dataTable) return;\n",
              "\n",
              "        const docLinkHtml = 'Like what you see? Visit the ' +\n",
              "          '<a target=\"_blank\" href=https://colab.research.google.com/notebooks/data_table.ipynb>data table notebook</a>'\n",
              "          + ' to learn more about interactive tables.';\n",
              "        element.innerHTML = '';\n",
              "        dataTable['output_type'] = 'display_data';\n",
              "        await google.colab.output.renderOutput(dataTable, element);\n",
              "        const docLink = document.createElement('div');\n",
              "        docLink.innerHTML = docLinkHtml;\n",
              "        element.appendChild(docLink);\n",
              "      }\n",
              "    </script>\n",
              "  </div>\n",
              "\n",
              "\n",
              "<div id=\"df-f3a33857-81df-4a40-b189-702c1849638f\">\n",
              "  <button class=\"colab-df-quickchart\" onclick=\"quickchart('df-f3a33857-81df-4a40-b189-702c1849638f')\"\n",
              "            title=\"Suggest charts\"\n",
              "            style=\"display:none;\">\n",
              "\n",
              "<svg xmlns=\"http://www.w3.org/2000/svg\" height=\"24px\"viewBox=\"0 0 24 24\"\n",
              "     width=\"24px\">\n",
              "    <g>\n",
              "        <path d=\"M19 3H5c-1.1 0-2 .9-2 2v14c0 1.1.9 2 2 2h14c1.1 0 2-.9 2-2V5c0-1.1-.9-2-2-2zM9 17H7v-7h2v7zm4 0h-2V7h2v10zm4 0h-2v-4h2v4z\"/>\n",
              "    </g>\n",
              "</svg>\n",
              "  </button>\n",
              "\n",
              "<style>\n",
              "  .colab-df-quickchart {\n",
              "      --bg-color: #E8F0FE;\n",
              "      --fill-color: #1967D2;\n",
              "      --hover-bg-color: #E2EBFA;\n",
              "      --hover-fill-color: #174EA6;\n",
              "      --disabled-fill-color: #AAA;\n",
              "      --disabled-bg-color: #DDD;\n",
              "  }\n",
              "\n",
              "  [theme=dark] .colab-df-quickchart {\n",
              "      --bg-color: #3B4455;\n",
              "      --fill-color: #D2E3FC;\n",
              "      --hover-bg-color: #434B5C;\n",
              "      --hover-fill-color: #FFFFFF;\n",
              "      --disabled-bg-color: #3B4455;\n",
              "      --disabled-fill-color: #666;\n",
              "  }\n",
              "\n",
              "  .colab-df-quickchart {\n",
              "    background-color: var(--bg-color);\n",
              "    border: none;\n",
              "    border-radius: 50%;\n",
              "    cursor: pointer;\n",
              "    display: none;\n",
              "    fill: var(--fill-color);\n",
              "    height: 32px;\n",
              "    padding: 0;\n",
              "    width: 32px;\n",
              "  }\n",
              "\n",
              "  .colab-df-quickchart:hover {\n",
              "    background-color: var(--hover-bg-color);\n",
              "    box-shadow: 0 1px 2px rgba(60, 64, 67, 0.3), 0 1px 3px 1px rgba(60, 64, 67, 0.15);\n",
              "    fill: var(--button-hover-fill-color);\n",
              "  }\n",
              "\n",
              "  .colab-df-quickchart-complete:disabled,\n",
              "  .colab-df-quickchart-complete:disabled:hover {\n",
              "    background-color: var(--disabled-bg-color);\n",
              "    fill: var(--disabled-fill-color);\n",
              "    box-shadow: none;\n",
              "  }\n",
              "\n",
              "  .colab-df-spinner {\n",
              "    border: 2px solid var(--fill-color);\n",
              "    border-color: transparent;\n",
              "    border-bottom-color: var(--fill-color);\n",
              "    animation:\n",
              "      spin 1s steps(1) infinite;\n",
              "  }\n",
              "\n",
              "  @keyframes spin {\n",
              "    0% {\n",
              "      border-color: transparent;\n",
              "      border-bottom-color: var(--fill-color);\n",
              "      border-left-color: var(--fill-color);\n",
              "    }\n",
              "    20% {\n",
              "      border-color: transparent;\n",
              "      border-left-color: var(--fill-color);\n",
              "      border-top-color: var(--fill-color);\n",
              "    }\n",
              "    30% {\n",
              "      border-color: transparent;\n",
              "      border-left-color: var(--fill-color);\n",
              "      border-top-color: var(--fill-color);\n",
              "      border-right-color: var(--fill-color);\n",
              "    }\n",
              "    40% {\n",
              "      border-color: transparent;\n",
              "      border-right-color: var(--fill-color);\n",
              "      border-top-color: var(--fill-color);\n",
              "    }\n",
              "    60% {\n",
              "      border-color: transparent;\n",
              "      border-right-color: var(--fill-color);\n",
              "    }\n",
              "    80% {\n",
              "      border-color: transparent;\n",
              "      border-right-color: var(--fill-color);\n",
              "      border-bottom-color: var(--fill-color);\n",
              "    }\n",
              "    90% {\n",
              "      border-color: transparent;\n",
              "      border-bottom-color: var(--fill-color);\n",
              "    }\n",
              "  }\n",
              "</style>\n",
              "\n",
              "  <script>\n",
              "    async function quickchart(key) {\n",
              "      const quickchartButtonEl =\n",
              "        document.querySelector('#' + key + ' button');\n",
              "      quickchartButtonEl.disabled = true;  // To prevent multiple clicks.\n",
              "      quickchartButtonEl.classList.add('colab-df-spinner');\n",
              "      try {\n",
              "        const charts = await google.colab.kernel.invokeFunction(\n",
              "            'suggestCharts', [key], {});\n",
              "      } catch (error) {\n",
              "        console.error('Error during call to suggestCharts:', error);\n",
              "      }\n",
              "      quickchartButtonEl.classList.remove('colab-df-spinner');\n",
              "      quickchartButtonEl.classList.add('colab-df-quickchart-complete');\n",
              "    }\n",
              "    (() => {\n",
              "      let quickchartButtonEl =\n",
              "        document.querySelector('#df-f3a33857-81df-4a40-b189-702c1849638f button');\n",
              "      quickchartButtonEl.style.display =\n",
              "        google.colab.kernel.accessAllowed ? 'block' : 'none';\n",
              "    })();\n",
              "  </script>\n",
              "</div>\n",
              "\n",
              "    </div>\n",
              "  </div>\n"
            ],
            "application/vnd.google.colaboratory.intrinsic+json": {
              "type": "dataframe",
              "variable_name": "df_c",
              "summary": "{\n  \"name\": \"df_c\",\n  \"rows\": 2852,\n  \"fields\": [\n    {\n      \"column\": \"y\",\n      \"properties\": {\n        \"dtype\": \"number\",\n        \"std\": 0,\n        \"min\": 0,\n        \"max\": 1,\n        \"num_unique_values\": 2,\n        \"samples\": [\n          1,\n          0\n        ],\n        \"semantic_type\": \"\",\n        \"description\": \"\"\n      }\n    },\n    {\n      \"column\": \"prob\",\n      \"properties\": {\n        \"dtype\": \"number\",\n        \"std\": 0.20741429435300596,\n        \"min\": 0.0280379862398714,\n        \"max\": 0.9577467989277196,\n        \"num_unique_values\": 2791,\n        \"samples\": [\n          0.7545586715678911,\n          0.6991517442102368\n        ],\n        \"semantic_type\": \"\",\n        \"description\": \"\"\n      }\n    }\n  ]\n}"
            }
          },
          "metadata": {},
          "execution_count": 28
        }
      ],
      "source": [
        "# df_c=pd.read_csv('/home/abrar/Downloads/5_c.csv')\n",
        "df_c=pd.read_csv('5_c.csv')\n",
        "df_c.head()"
      ]
    },
    {
      "cell_type": "code",
      "execution_count": 30,
      "metadata": {
        "id": "eAPjewjzAfCa"
      },
      "outputs": [],
      "source": [
        " # write your code for task C\n",
        "y_actual = df_c['y']\n",
        "y_predicted = [1 if y_real >= 0.5 else 0 for y_real in df_c['prob']]\n"
      ]
    },
    {
      "cell_type": "code",
      "execution_count": 33,
      "metadata": {
        "id": "bMogiGNylsXP"
      },
      "outputs": [],
      "source": [
        "def calculate_FP_and_FN_for_each_threshold(sorted_y_actual, sorted_y_predicted):\n",
        "    false_negative = cal(sorted_y_actual, sorted_y_predicted, 0, 1) #cell (0,1)\n",
        "    false_positive = cal(sorted_y_actual, sorted_y_predicted, 1, 0) #cell (1,0)\n",
        "    return false_positive, false_negative\n",
        "\n",
        "def calculate_best_threshold(df_c):\n",
        "    sorted_df_c_asending = df_c.sort_values(by=['prob'], ascending=False)\n",
        "    prob_thresholds = sorted_df_c_asending['prob'].unique()\n",
        "\n",
        "    #initialize the A_curr and best_threshold with the first value of prob_thresholds\n",
        "    best_threshold = prob_thresholds[0]\n",
        "    A_prev  = prob_thresholds[0]\n",
        "    for threshold in tqdm(prob_thresholds):\n",
        "        y_predicted_threshold = np.where(sorted_df_c_asending['prob'] >= threshold, 1, 0)\n",
        "        number_of_false_positive, number_of_false_negative = calculate_FP_and_FN_for_each_threshold(sorted_df_c_asending['y'],  \\\n",
        "                                                                                                    y_predicted_threshold)\n",
        "        A_curr = (500 * number_of_false_negative) + (100 * number_of_false_positive)\n",
        "        #if the A_curr is less than A_prev then assign the threshold in best_threshold\n",
        "        #and update the A_prev\n",
        "        if(A_curr < A_prev):\n",
        "            best_threshold = threshold\n",
        "            A_prev = A_curr\n",
        "    return best_threshold\n"
      ]
    },
    {
      "cell_type": "code",
      "execution_count": 34,
      "metadata": {
        "colab": {
          "base_uri": "https://localhost:8080/"
        },
        "id": "ul-hH2JilsXP",
        "outputId": "540b0fe5-1eec-4fce-d51c-a000b26465e0"
      },
      "outputs": [
        {
          "output_type": "stream",
          "name": "stderr",
          "text": [
            "100%|██████████| 2791/2791 [00:02<00:00, 1309.58it/s]"
          ]
        },
        {
          "output_type": "stream",
          "name": "stdout",
          "text": [
            "\n",
            "best threshold = 0.9577467989277196 \n",
            "\n"
          ]
        },
        {
          "output_type": "stream",
          "name": "stderr",
          "text": [
            "\n"
          ]
        }
      ],
      "source": [
        "print(f\"\\nbest threshold = {calculate_best_threshold(df_c)} \\n\")"
      ]
    },
    {
      "cell_type": "markdown",
      "metadata": {
        "id": "sD4CcgjXQvoL"
      },
      "source": [
        "\n",
        "## D.</b></font> Compute performance metrics(for regression) for the given data 5_d.csv\n",
        "<pre>    <b>Note 2:</b> use pandas or numpy to read the data from <b>5_d.csv</b>\n",
        "    <b>Note 1:</b> <b>5_d.csv</b> will having two columns Y and predicted_Y both are real valued features\n",
        "<ol>\n",
        "<li> Compute Mean Square Error </li>\n",
        "<li> Compute MAPE: https://www.youtube.com/watch?v=ly6ztgIkUxk</li>\n",
        "<li> Compute R^2 error: https://en.wikipedia.org/wiki/Coefficient_of_determination#Definitions </li>\n",
        "</ol>\n",
        "</pre>"
      ]
    },
    {
      "cell_type": "code",
      "source": [
        "!wget --header=\"Host: drive.usercontent.google.com\" --header=\"User-Agent: Mozilla/5.0 (X11; Linux x86_64) AppleWebKit/537.36 (KHTML, like Gecko) Chrome/126.0.0.0 Safari/537.36\" --header=\"Accept: text/html,application/xhtml+xml,application/xml;q=0.9,image/avif,image/webp,image/apng,*/*;q=0.8,application/signed-exchange;v=b3;q=0.7\" --header=\"Accept-Language: en-US,en;q=0.9,hi;q=0.8\" --header=\"Cookie: SID=g.a000lghhqPeXWo_YO86EX9TjDVyOPXFHoudkgVzZCFbbaXb7FC93iDBd5XPEFVH2P96fT4whhwACgYKAWkSARYSFQHGX2MitruJpmq0OYVRlQyYGxMHsxoVAUF8yKp4VuoR8YjFKLfB6Ecm5-Ub0076; __Secure-1PSID=g.a000lghhqPeXWo_YO86EX9TjDVyOPXFHoudkgVzZCFbbaXb7FC93JUW0iPYtG2eS42YD1g2DxAACgYKAUESARYSFQHGX2MiFnJonx4WeQNWhRPLb82fWhoVAUF8yKoWuiCzPMqincZpH05Lokk30076; __Secure-3PSID=g.a000lghhqPeXWo_YO86EX9TjDVyOPXFHoudkgVzZCFbbaXb7FC93rqACJm2Bh6v8rM2FsUlRfwACgYKATcSARYSFQHGX2Mi9ZZ4UGKXqPi9RN7CqHQywBoVAUF8yKq6wXbPwCB2DT2Bo5FyiH_c0076; HSID=AFP_LKjSnJG5fnOd0; SSID=AI5Nsd4pEA22MuFu1; APISID=hsmKaIeKzn3rEbrz/As15XLTUT6u1DhOdB; SAPISID=i8wmL9i_s18ZGtly/A-z1fPUTYNL2Qie_h; __Secure-1PAPISID=i8wmL9i_s18ZGtly/A-z1fPUTYNL2Qie_h; __Secure-3PAPISID=i8wmL9i_s18ZGtly/A-z1fPUTYNL2Qie_h; AEC=AVYB7cp1-GunO0JBGIUvipmCVevDzfqrE1D7_the-poy5zioqVsnfpD2SSQ; NID=515=CZ7rhGQKq-6IxkmxzstGyl3ePTwo4dYf3OFJart1FJi63Eej3ulmcGFGDh2uTU2jelNc2WqsVyIT_H9troLUvIwenkvGwYIilyubd-tKcM2WMcrfUXLoY1w4CmCLqTl5C-xodTXzngOvBNXXmLjywjCgKNY7bGNDdNS2BouIeM7zlPewHmxWIcHh1njkQSQeYpADlRUv-g6_Keu8Wsf0PiFueSOVfKazNEhTNbUCtrKdV8eF_WkCUF6Gav_D2RmmJBQrR_EZ-X9Vlb2J_ZImtNP5WIAwELbBf2od7Fh9qT_L_QmhLeq0u3z2ojdz1L9AqOuXeSNnbqa5Zg5_tbJSdFJhXddgGxeWLQ; __Secure-1PSIDTS=sidts-CjEB4E2dkexj9mA1BXLJxphZyRLFIX4rxEY8NEGqe1Dx1wfqA1sjzDIZ0pmMRtNbXofBEAA; __Secure-3PSIDTS=sidts-CjEB4E2dkexj9mA1BXLJxphZyRLFIX4rxEY8NEGqe1Dx1wfqA1sjzDIZ0pmMRtNbXofBEAA; SIDCC=AKEyXzV3LABkUx4tEv9P-OztPNzmVury6kkLnFu0iXZ9IifIkkC0vmPeRV8VUDHiAC35_2LBqno; __Secure-1PSIDCC=AKEyXzWd6yuAOfPqVtgfvHSaVbqSSeSWHQLLMWTD4LC_U5fY2mOcNkNa1IzsKQzhlbOHpU-LBg; __Secure-3PSIDCC=AKEyXzXeyJEgwp3cTyEmZL6izkcvx3wBVUA4R4fZlq4IeMWD3r09fqeMKKIGTkrPv8dZFpGhcNw\" --header=\"Connection: keep-alive\" \"https://drive.usercontent.google.com/download?id=145oEH4VLFWVhr5rYs2tT2WXVeFIoZJud&export=download&authuser=0&confirm=t&uuid=154f165e-3603-4b31-995d-e15f6bf85fdb&at=APZUnTVdD4xQYAQuZB29x8h2FYbj:1720677652699\" -c -O '5_d.csv'"
      ],
      "metadata": {
        "colab": {
          "base_uri": "https://localhost:8080/"
        },
        "id": "7ThD3VzWnL_x",
        "outputId": "a1866caa-628e-4b28-f9fa-159609997503"
      },
      "execution_count": 35,
      "outputs": [
        {
          "output_type": "stream",
          "name": "stdout",
          "text": [
            "--2024-07-11 06:01:13--  https://drive.usercontent.google.com/download?id=145oEH4VLFWVhr5rYs2tT2WXVeFIoZJud&export=download&authuser=0&confirm=t&uuid=154f165e-3603-4b31-995d-e15f6bf85fdb&at=APZUnTVdD4xQYAQuZB29x8h2FYbj:1720677652699\n",
            "Resolving drive.usercontent.google.com (drive.usercontent.google.com)... 74.125.26.132, 2607:f8b0:400c:c04::84\n",
            "Connecting to drive.usercontent.google.com (drive.usercontent.google.com)|74.125.26.132|:443... connected.\n",
            "HTTP request sent, awaiting response... 200 OK\n",
            "Length: 1742949 (1.7M) [application/octet-stream]\n",
            "Saving to: ‘5_d.csv’\n",
            "\n",
            "5_d.csv             100%[===================>]   1.66M  --.-KB/s    in 0.01s   \n",
            "\n",
            "2024-07-11 06:01:14 (168 MB/s) - ‘5_d.csv’ saved [1742949/1742949]\n",
            "\n"
          ]
        }
      ]
    },
    {
      "cell_type": "code",
      "execution_count": 36,
      "metadata": {
        "id": "sVOj-bF9AfCd",
        "colab": {
          "base_uri": "https://localhost:8080/",
          "height": 206
        },
        "outputId": "77decb4f-3be2-4d76-ecc7-90176283a182"
      },
      "outputs": [
        {
          "output_type": "execute_result",
          "data": {
            "text/plain": [
              "       y   pred\n",
              "0  101.0  100.0\n",
              "1  120.0  100.0\n",
              "2  131.0  113.0\n",
              "3  164.0  125.0\n",
              "4  154.0  152.0"
            ],
            "text/html": [
              "\n",
              "  <div id=\"df-7d556489-7fa8-403d-a55c-5efedae0636a\" class=\"colab-df-container\">\n",
              "    <div>\n",
              "<style scoped>\n",
              "    .dataframe tbody tr th:only-of-type {\n",
              "        vertical-align: middle;\n",
              "    }\n",
              "\n",
              "    .dataframe tbody tr th {\n",
              "        vertical-align: top;\n",
              "    }\n",
              "\n",
              "    .dataframe thead th {\n",
              "        text-align: right;\n",
              "    }\n",
              "</style>\n",
              "<table border=\"1\" class=\"dataframe\">\n",
              "  <thead>\n",
              "    <tr style=\"text-align: right;\">\n",
              "      <th></th>\n",
              "      <th>y</th>\n",
              "      <th>pred</th>\n",
              "    </tr>\n",
              "  </thead>\n",
              "  <tbody>\n",
              "    <tr>\n",
              "      <th>0</th>\n",
              "      <td>101.0</td>\n",
              "      <td>100.0</td>\n",
              "    </tr>\n",
              "    <tr>\n",
              "      <th>1</th>\n",
              "      <td>120.0</td>\n",
              "      <td>100.0</td>\n",
              "    </tr>\n",
              "    <tr>\n",
              "      <th>2</th>\n",
              "      <td>131.0</td>\n",
              "      <td>113.0</td>\n",
              "    </tr>\n",
              "    <tr>\n",
              "      <th>3</th>\n",
              "      <td>164.0</td>\n",
              "      <td>125.0</td>\n",
              "    </tr>\n",
              "    <tr>\n",
              "      <th>4</th>\n",
              "      <td>154.0</td>\n",
              "      <td>152.0</td>\n",
              "    </tr>\n",
              "  </tbody>\n",
              "</table>\n",
              "</div>\n",
              "    <div class=\"colab-df-buttons\">\n",
              "\n",
              "  <div class=\"colab-df-container\">\n",
              "    <button class=\"colab-df-convert\" onclick=\"convertToInteractive('df-7d556489-7fa8-403d-a55c-5efedae0636a')\"\n",
              "            title=\"Convert this dataframe to an interactive table.\"\n",
              "            style=\"display:none;\">\n",
              "\n",
              "  <svg xmlns=\"http://www.w3.org/2000/svg\" height=\"24px\" viewBox=\"0 -960 960 960\">\n",
              "    <path d=\"M120-120v-720h720v720H120Zm60-500h600v-160H180v160Zm220 220h160v-160H400v160Zm0 220h160v-160H400v160ZM180-400h160v-160H180v160Zm440 0h160v-160H620v160ZM180-180h160v-160H180v160Zm440 0h160v-160H620v160Z\"/>\n",
              "  </svg>\n",
              "    </button>\n",
              "\n",
              "  <style>\n",
              "    .colab-df-container {\n",
              "      display:flex;\n",
              "      gap: 12px;\n",
              "    }\n",
              "\n",
              "    .colab-df-convert {\n",
              "      background-color: #E8F0FE;\n",
              "      border: none;\n",
              "      border-radius: 50%;\n",
              "      cursor: pointer;\n",
              "      display: none;\n",
              "      fill: #1967D2;\n",
              "      height: 32px;\n",
              "      padding: 0 0 0 0;\n",
              "      width: 32px;\n",
              "    }\n",
              "\n",
              "    .colab-df-convert:hover {\n",
              "      background-color: #E2EBFA;\n",
              "      box-shadow: 0px 1px 2px rgba(60, 64, 67, 0.3), 0px 1px 3px 1px rgba(60, 64, 67, 0.15);\n",
              "      fill: #174EA6;\n",
              "    }\n",
              "\n",
              "    .colab-df-buttons div {\n",
              "      margin-bottom: 4px;\n",
              "    }\n",
              "\n",
              "    [theme=dark] .colab-df-convert {\n",
              "      background-color: #3B4455;\n",
              "      fill: #D2E3FC;\n",
              "    }\n",
              "\n",
              "    [theme=dark] .colab-df-convert:hover {\n",
              "      background-color: #434B5C;\n",
              "      box-shadow: 0px 1px 3px 1px rgba(0, 0, 0, 0.15);\n",
              "      filter: drop-shadow(0px 1px 2px rgba(0, 0, 0, 0.3));\n",
              "      fill: #FFFFFF;\n",
              "    }\n",
              "  </style>\n",
              "\n",
              "    <script>\n",
              "      const buttonEl =\n",
              "        document.querySelector('#df-7d556489-7fa8-403d-a55c-5efedae0636a button.colab-df-convert');\n",
              "      buttonEl.style.display =\n",
              "        google.colab.kernel.accessAllowed ? 'block' : 'none';\n",
              "\n",
              "      async function convertToInteractive(key) {\n",
              "        const element = document.querySelector('#df-7d556489-7fa8-403d-a55c-5efedae0636a');\n",
              "        const dataTable =\n",
              "          await google.colab.kernel.invokeFunction('convertToInteractive',\n",
              "                                                    [key], {});\n",
              "        if (!dataTable) return;\n",
              "\n",
              "        const docLinkHtml = 'Like what you see? Visit the ' +\n",
              "          '<a target=\"_blank\" href=https://colab.research.google.com/notebooks/data_table.ipynb>data table notebook</a>'\n",
              "          + ' to learn more about interactive tables.';\n",
              "        element.innerHTML = '';\n",
              "        dataTable['output_type'] = 'display_data';\n",
              "        await google.colab.output.renderOutput(dataTable, element);\n",
              "        const docLink = document.createElement('div');\n",
              "        docLink.innerHTML = docLinkHtml;\n",
              "        element.appendChild(docLink);\n",
              "      }\n",
              "    </script>\n",
              "  </div>\n",
              "\n",
              "\n",
              "<div id=\"df-a3855132-9961-44c2-b164-327f3fbd9efa\">\n",
              "  <button class=\"colab-df-quickchart\" onclick=\"quickchart('df-a3855132-9961-44c2-b164-327f3fbd9efa')\"\n",
              "            title=\"Suggest charts\"\n",
              "            style=\"display:none;\">\n",
              "\n",
              "<svg xmlns=\"http://www.w3.org/2000/svg\" height=\"24px\"viewBox=\"0 0 24 24\"\n",
              "     width=\"24px\">\n",
              "    <g>\n",
              "        <path d=\"M19 3H5c-1.1 0-2 .9-2 2v14c0 1.1.9 2 2 2h14c1.1 0 2-.9 2-2V5c0-1.1-.9-2-2-2zM9 17H7v-7h2v7zm4 0h-2V7h2v10zm4 0h-2v-4h2v4z\"/>\n",
              "    </g>\n",
              "</svg>\n",
              "  </button>\n",
              "\n",
              "<style>\n",
              "  .colab-df-quickchart {\n",
              "      --bg-color: #E8F0FE;\n",
              "      --fill-color: #1967D2;\n",
              "      --hover-bg-color: #E2EBFA;\n",
              "      --hover-fill-color: #174EA6;\n",
              "      --disabled-fill-color: #AAA;\n",
              "      --disabled-bg-color: #DDD;\n",
              "  }\n",
              "\n",
              "  [theme=dark] .colab-df-quickchart {\n",
              "      --bg-color: #3B4455;\n",
              "      --fill-color: #D2E3FC;\n",
              "      --hover-bg-color: #434B5C;\n",
              "      --hover-fill-color: #FFFFFF;\n",
              "      --disabled-bg-color: #3B4455;\n",
              "      --disabled-fill-color: #666;\n",
              "  }\n",
              "\n",
              "  .colab-df-quickchart {\n",
              "    background-color: var(--bg-color);\n",
              "    border: none;\n",
              "    border-radius: 50%;\n",
              "    cursor: pointer;\n",
              "    display: none;\n",
              "    fill: var(--fill-color);\n",
              "    height: 32px;\n",
              "    padding: 0;\n",
              "    width: 32px;\n",
              "  }\n",
              "\n",
              "  .colab-df-quickchart:hover {\n",
              "    background-color: var(--hover-bg-color);\n",
              "    box-shadow: 0 1px 2px rgba(60, 64, 67, 0.3), 0 1px 3px 1px rgba(60, 64, 67, 0.15);\n",
              "    fill: var(--button-hover-fill-color);\n",
              "  }\n",
              "\n",
              "  .colab-df-quickchart-complete:disabled,\n",
              "  .colab-df-quickchart-complete:disabled:hover {\n",
              "    background-color: var(--disabled-bg-color);\n",
              "    fill: var(--disabled-fill-color);\n",
              "    box-shadow: none;\n",
              "  }\n",
              "\n",
              "  .colab-df-spinner {\n",
              "    border: 2px solid var(--fill-color);\n",
              "    border-color: transparent;\n",
              "    border-bottom-color: var(--fill-color);\n",
              "    animation:\n",
              "      spin 1s steps(1) infinite;\n",
              "  }\n",
              "\n",
              "  @keyframes spin {\n",
              "    0% {\n",
              "      border-color: transparent;\n",
              "      border-bottom-color: var(--fill-color);\n",
              "      border-left-color: var(--fill-color);\n",
              "    }\n",
              "    20% {\n",
              "      border-color: transparent;\n",
              "      border-left-color: var(--fill-color);\n",
              "      border-top-color: var(--fill-color);\n",
              "    }\n",
              "    30% {\n",
              "      border-color: transparent;\n",
              "      border-left-color: var(--fill-color);\n",
              "      border-top-color: var(--fill-color);\n",
              "      border-right-color: var(--fill-color);\n",
              "    }\n",
              "    40% {\n",
              "      border-color: transparent;\n",
              "      border-right-color: var(--fill-color);\n",
              "      border-top-color: var(--fill-color);\n",
              "    }\n",
              "    60% {\n",
              "      border-color: transparent;\n",
              "      border-right-color: var(--fill-color);\n",
              "    }\n",
              "    80% {\n",
              "      border-color: transparent;\n",
              "      border-right-color: var(--fill-color);\n",
              "      border-bottom-color: var(--fill-color);\n",
              "    }\n",
              "    90% {\n",
              "      border-color: transparent;\n",
              "      border-bottom-color: var(--fill-color);\n",
              "    }\n",
              "  }\n",
              "</style>\n",
              "\n",
              "  <script>\n",
              "    async function quickchart(key) {\n",
              "      const quickchartButtonEl =\n",
              "        document.querySelector('#' + key + ' button');\n",
              "      quickchartButtonEl.disabled = true;  // To prevent multiple clicks.\n",
              "      quickchartButtonEl.classList.add('colab-df-spinner');\n",
              "      try {\n",
              "        const charts = await google.colab.kernel.invokeFunction(\n",
              "            'suggestCharts', [key], {});\n",
              "      } catch (error) {\n",
              "        console.error('Error during call to suggestCharts:', error);\n",
              "      }\n",
              "      quickchartButtonEl.classList.remove('colab-df-spinner');\n",
              "      quickchartButtonEl.classList.add('colab-df-quickchart-complete');\n",
              "    }\n",
              "    (() => {\n",
              "      let quickchartButtonEl =\n",
              "        document.querySelector('#df-a3855132-9961-44c2-b164-327f3fbd9efa button');\n",
              "      quickchartButtonEl.style.display =\n",
              "        google.colab.kernel.accessAllowed ? 'block' : 'none';\n",
              "    })();\n",
              "  </script>\n",
              "</div>\n",
              "\n",
              "    </div>\n",
              "  </div>\n"
            ],
            "application/vnd.google.colaboratory.intrinsic+json": {
              "type": "dataframe",
              "variable_name": "df_d"
            }
          },
          "metadata": {},
          "execution_count": 36
        }
      ],
      "source": [
        "# df_d=pd.read_csv('/home/abrar/Downloads/5_d.csv')\n",
        "df_d=pd.read_csv('5_d.csv')\n",
        "df_d.head()"
      ]
    },
    {
      "cell_type": "markdown",
      "metadata": {
        "id": "VKAmllLwlsXQ"
      },
      "source": [
        "### 1-MSE(Mean Squared Error)\n",
        "\n",
        "$MSE = \\frac {1}{n}\\sum \\limits _{i=1} ^{n} ((y_{i} - \\hat{y}_{i}))^2$ where,\n",
        "\n",
        "$ y_{i} ==> y_{actual} $\n",
        "\n",
        "$\\hat{y}_{i}   ==>   y_{predicted} $\n"
      ]
    },
    {
      "cell_type": "code",
      "execution_count": 38,
      "metadata": {
        "id": "uRhL1pheAfCe",
        "colab": {
          "base_uri": "https://localhost:8080/"
        },
        "outputId": "b73059df-0522-48a1-938f-64be0dcbb4e8"
      },
      "outputs": [
        {
          "output_type": "stream",
          "name": "stderr",
          "text": [
            "100%|██████████| 157200/157200 [00:01<00:00, 139849.96it/s]"
          ]
        },
        {
          "output_type": "stream",
          "name": "stdout",
          "text": [
            "\n",
            "MSE = 177.16569974554707\n"
          ]
        },
        {
          "output_type": "stream",
          "name": "stderr",
          "text": [
            "\n"
          ]
        }
      ],
      "source": [
        "def computeMSE(df_d):\n",
        "    y_actual = df_d['y']\n",
        "    y_predicted = df_d['pred']\n",
        "    n_points =len(y_actual)\n",
        "    #initialize the error with zero\n",
        "    MSE = 0\n",
        "    for index in tqdm(range(n_points)):\n",
        "        MSE += ((y_actual[index] - y_predicted[index]) ** 2)\n",
        "\n",
        "    return MSE/n_points\n",
        "\n",
        "print(f\"\\nMSE = {computeMSE(df_d)}\")\n",
        "\n",
        "\n"
      ]
    },
    {
      "cell_type": "markdown",
      "metadata": {
        "id": "9YkJvtlElsXQ"
      },
      "source": [
        "### 2-MAPE(Mean Absolute Percentage Error)\n",
        "\n",
        "$MAPE = \\frac {1}{n} \\sum \\limits _{i=1} ^{n} |\\frac {y_{i} - \\hat{y}_{i}} {y_{i}}|$ where,\n",
        "\n",
        "$ y_{i} ==> y_{actual} $\n",
        "\n",
        "$\\hat{y}_{i}   ==>   y_{predicted} $\n",
        "\n",
        "n ==> #points in my test data\n",
        "\n",
        "if you get division by 0 error then instead of MAPE, use modified MAPE.\n",
        "\n",
        "Modified MAPE ==> replace the denomenator $y_{i}$ with average value of $y_{i}'s$\n",
        "\n",
        "let average value of $y_{i}'s$ is $\\bar y$\n",
        "\n",
        "$\\bar y = \\frac {1}{n} \\sum \\limits _{i=1} ^{n}  {y_{i} }$   \n",
        "$==> n\\bar y = \\sum \\limits _{i=1} ^{n}  {y_{i} }$\n",
        "\n",
        "$MAPE_{modified} = \\frac {1}{n} \\sum \\limits _{i=1} ^{n}  |\n",
        " \\frac {y_{i} - \\hat{y}_{i}}{avg({y}_{i})}| = \\frac {1}{n} \\sum \\limits _{i=1} ^{n}  |\n",
        " \\frac {y_{i} - \\hat{y}_{i}}{\\bar y}| = \\frac {\\sum \\limits _{i=1} ^{n} |y_{i} - \\hat{y}_{i}|}{\\sum \\limits _{i=1} ^{n} y_{i}}$\n",
        "\n",
        " #### Note::\n",
        " $ (y_{i} - \\hat y_{i}) $ is called $residual$ that is denoted as  $'e'$  \n",
        " $ residual(e) = y_{i} - \\hat y_{i} $"
      ]
    },
    {
      "cell_type": "code",
      "execution_count": 59,
      "metadata": {
        "colab": {
          "base_uri": "https://localhost:8080/",
          "height": 331
        },
        "id": "6VIRkltzlsXR",
        "outputId": "bde71779-19b0-449e-970c-0d3f14b82dff"
      },
      "outputs": [
        {
          "output_type": "stream",
          "name": "stderr",
          "text": [
            "  0%|          | 641/157200 [00:00<00:02, 75703.92it/s]\n"
          ]
        },
        {
          "output_type": "error",
          "ename": "Exception",
          "evalue": "Division by zero",
          "traceback": [
            "\u001b[0;31m---------------------------------------------------------------------------\u001b[0m",
            "\u001b[0;31mException\u001b[0m                                 Traceback (most recent call last)",
            "\u001b[0;32m<ipython-input-59-17da182e3781>\u001b[0m in \u001b[0;36m<cell line: 13>\u001b[0;34m()\u001b[0m\n\u001b[1;32m     11\u001b[0m     \u001b[0;32mreturn\u001b[0m \u001b[0mMAPE\u001b[0m\u001b[0;34m/\u001b[0m\u001b[0mn_points\u001b[0m\u001b[0;34m\u001b[0m\u001b[0;34m\u001b[0m\u001b[0m\n\u001b[1;32m     12\u001b[0m \u001b[0;34m\u001b[0m\u001b[0m\n\u001b[0;32m---> 13\u001b[0;31m \u001b[0mprint\u001b[0m\u001b[0;34m(\u001b[0m\u001b[0;34mf\"MAPE = {computeMAPE(df_d)}\"\u001b[0m\u001b[0;34m)\u001b[0m\u001b[0;34m\u001b[0m\u001b[0;34m\u001b[0m\u001b[0m\n\u001b[0m",
            "\u001b[0;32m<ipython-input-59-17da182e3781>\u001b[0m in \u001b[0;36mcomputeMAPE\u001b[0;34m(df_d)\u001b[0m\n\u001b[1;32m      7\u001b[0m     \u001b[0;32mfor\u001b[0m \u001b[0mindex\u001b[0m \u001b[0;32min\u001b[0m \u001b[0mtqdm\u001b[0m\u001b[0;34m(\u001b[0m\u001b[0mrange\u001b[0m\u001b[0;34m(\u001b[0m\u001b[0mn_points\u001b[0m\u001b[0;34m)\u001b[0m\u001b[0;34m)\u001b[0m\u001b[0;34m:\u001b[0m\u001b[0;34m\u001b[0m\u001b[0;34m\u001b[0m\u001b[0m\n\u001b[1;32m      8\u001b[0m       \u001b[0;32mif\u001b[0m\u001b[0;34m(\u001b[0m\u001b[0my_actual\u001b[0m\u001b[0;34m[\u001b[0m\u001b[0mindex\u001b[0m\u001b[0;34m]\u001b[0m \u001b[0;34m==\u001b[0m \u001b[0;36m0\u001b[0m\u001b[0;34m)\u001b[0m\u001b[0;34m:\u001b[0m\u001b[0;34m\u001b[0m\u001b[0;34m\u001b[0m\u001b[0m\n\u001b[0;32m----> 9\u001b[0;31m             \u001b[0;32mraise\u001b[0m \u001b[0mException\u001b[0m\u001b[0;34m(\u001b[0m\u001b[0;34m\"Division by zero\"\u001b[0m\u001b[0;34m)\u001b[0m\u001b[0;34m\u001b[0m\u001b[0;34m\u001b[0m\u001b[0m\n\u001b[0m\u001b[1;32m     10\u001b[0m       \u001b[0mMAPE\u001b[0m \u001b[0;34m+=\u001b[0m \u001b[0;34m(\u001b[0m\u001b[0mabs\u001b[0m\u001b[0;34m(\u001b[0m\u001b[0my_actual\u001b[0m\u001b[0;34m[\u001b[0m\u001b[0mindex\u001b[0m\u001b[0;34m]\u001b[0m \u001b[0;34m-\u001b[0m \u001b[0my_predicted\u001b[0m\u001b[0;34m[\u001b[0m\u001b[0mindex\u001b[0m\u001b[0;34m]\u001b[0m\u001b[0;34m)\u001b[0m \u001b[0;34m/\u001b[0m \u001b[0;34m(\u001b[0m\u001b[0my_actual\u001b[0m\u001b[0;34m[\u001b[0m\u001b[0mindex\u001b[0m\u001b[0;34m]\u001b[0m\u001b[0;34m)\u001b[0m\u001b[0;34m)\u001b[0m\u001b[0;34m\u001b[0m\u001b[0;34m\u001b[0m\u001b[0m\n\u001b[1;32m     11\u001b[0m     \u001b[0;32mreturn\u001b[0m \u001b[0mMAPE\u001b[0m\u001b[0;34m/\u001b[0m\u001b[0mn_points\u001b[0m\u001b[0;34m\u001b[0m\u001b[0;34m\u001b[0m\u001b[0m\n",
            "\u001b[0;31mException\u001b[0m: Division by zero"
          ]
        }
      ],
      "source": [
        "def computeMAPE(df_d):\n",
        "    y_actual = df_d['y']\n",
        "    y_predicted = df_d['pred']\n",
        "    n_points =len(y_actual)\n",
        "    #initialize the MAPE with zero\n",
        "    MAPE = 0\n",
        "    for index in tqdm(range(n_points)):\n",
        "      if(y_actual[index] == 0):\n",
        "            raise Exception(\"Division by zero\")\n",
        "      MAPE += (abs(y_actual[index] - y_predicted[index]) / (y_actual[index]))\n",
        "    return MAPE/n_points\n",
        "\n",
        "print(f\"MAPE = {computeMAPE(df_d)}\")"
      ]
    },
    {
      "cell_type": "code",
      "source": [
        "def compute_modified_MAPE(df_d):\n",
        "    y_actual = df_d['y']\n",
        "    y_predicted = df_d['pred']\n",
        "    n_points =len(y_actual)\n",
        "    #initialize the error with zero\n",
        "    agg_y_actual = 0\n",
        "    agg_residual = 0\n",
        "    for index in tqdm(range(n_points)):\n",
        "      agg_y_actual += (y_actual[index])\n",
        "      agg_residual += (abs(y_actual[index] - y_predicted[index]))\n",
        "    return agg_residual/agg_y_actual\n",
        "\n",
        "print(f\"\\nMAPE = {compute_modified_MAPE(df_d)}\")"
      ],
      "metadata": {
        "colab": {
          "base_uri": "https://localhost:8080/"
        },
        "id": "8ARSD8CLnQ5y",
        "outputId": "623171e7-bbac-4f82-ead9-877187453a0e"
      },
      "execution_count": 61,
      "outputs": [
        {
          "output_type": "stream",
          "name": "stderr",
          "text": [
            "100%|██████████| 157200/157200 [00:02<00:00, 65684.58it/s]"
          ]
        },
        {
          "output_type": "stream",
          "name": "stdout",
          "text": [
            "\n",
            "MAPE = 0.1291202994009687\n"
          ]
        },
        {
          "output_type": "stream",
          "name": "stderr",
          "text": [
            "\n"
          ]
        }
      ]
    },
    {
      "cell_type": "markdown",
      "source": [
        "### 3- R-squared Error\n",
        "$ residual(e) = y_{i} - \\hat y_{i} $\n",
        "\n",
        "$ss_{residuals} = \\sum \\limits _{i = 1}^{n} {e^2}$ , where $ss_{residuals}$ is sum of squares of residuals\n",
        "\n",
        "$ss_{total} = \\sum \\limits _{i = 1}^{n} (y_{i} - \\bar y)^2$ , where $ss_{total}$ is total sum of squares and\n",
        "\n",
        "$ mean = \\bar y = \\frac {1}{n} \\sum \\limits _{i = 1}^{n} y_{i} $\n",
        "\n",
        "$ R^2 = 1 - \\frac {ss_{residuals}}{ss_{total}} $\n",
        "\n"
      ],
      "metadata": {
        "id": "3hZ16u0Znw8O"
      }
    },
    {
      "cell_type": "code",
      "source": [
        "def computeR_squared(df_d):\n",
        "    y_actual = df_d['y']\n",
        "    y_predicted = df_d['pred']\n",
        "    n_points =len(y_actual)\n",
        "    #initialize the values with zero\n",
        "    ss_residuals = 0\n",
        "    ss_total = 0\n",
        "    mean_y = np.mean(y_actual)\n",
        "    for index in tqdm(range(n_points)):\n",
        "        ss_residuals +=  (y_actual[index] - y_predicted[index]) ** 2\n",
        "        ss_total += ((y_actual[index] - mean_y) ** 2)\n",
        "    return (1-(ss_residuals/ss_total))\n",
        "\n",
        "print(f\"\\nR-squared error= {computeR_squared(df_d)}\")"
      ],
      "metadata": {
        "colab": {
          "base_uri": "https://localhost:8080/"
        },
        "id": "uoib_vQXn0E4",
        "outputId": "0b0ea2e8-1b0e-44d3-fba9-7d444ea1f442"
      },
      "execution_count": 40,
      "outputs": [
        {
          "output_type": "stream",
          "name": "stderr",
          "text": [
            "100%|██████████| 157200/157200 [00:02<00:00, 66680.55it/s]"
          ]
        },
        {
          "output_type": "stream",
          "name": "stdout",
          "text": [
            "\n",
            "R-squared error= 0.9563582786990964\n"
          ]
        },
        {
          "output_type": "stream",
          "name": "stderr",
          "text": [
            "\n"
          ]
        }
      ]
    }
  ],
  "metadata": {
    "colab": {
      "provenance": []
    },
    "kernelspec": {
      "display_name": "Python 3",
      "language": "python",
      "name": "python3"
    },
    "language_info": {
      "codemirror_mode": {
        "name": "ipython",
        "version": 3
      },
      "file_extension": ".py",
      "mimetype": "text/x-python",
      "name": "python",
      "nbconvert_exporter": "python",
      "pygments_lexer": "ipython3",
      "version": "3.10.12"
    }
  },
  "nbformat": 4,
  "nbformat_minor": 0
}